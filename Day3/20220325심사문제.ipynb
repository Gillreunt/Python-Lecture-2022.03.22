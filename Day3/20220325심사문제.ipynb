{
 "cells": [
  {
   "cell_type": "markdown",
   "metadata": {},
   "source": [
    "### 13 심사문제\n",
    "<pre>\n",
    "표준 입력으로 가격(정수)과 쿠폰 이름이 각 줄에 입력됩니다. \n",
    "Cash3000 쿠폰은 3,000원, Cash5000 쿠폰은 5,000원을 할인합니다. \n",
    "쿠폰에 따라 할인된 가격을 출력하는 프로그램을 만드세요\n",
    "(input에서 안내 문자열은 출력하지 않아야 합니다).\n",
    "\n",
    "judge_if.py\n",
    "________________\n",
    "________________\n",
    "________________\n",
    "________________\n",
    "________________\n",
    "________________\n",
    "________________\n",
    "\n",
    "\n",
    "입력\n",
    "27000\n",
    "Cash3000\n",
    "\n",
    "결과\n",
    "24000\n",
    "\n",
    "입력\n",
    "72000\n",
    "Cash5000\n",
    "\n",
    "결과\n",
    "67000\n",
    "</pre>"
   ]
  },
  {
   "cell_type": "code",
   "execution_count": 12,
   "metadata": {},
   "outputs": [
    {
     "name": "stdout",
     "output_type": "stream",
     "text": [
      "24000\n"
     ]
    }
   ],
   "source": [
    "cash = int(input(''))\n",
    "coupon = input('')\n",
    "\n",
    "if coupon == 'Cash3000':\n",
    "    cash1 = cash - 3000\n",
    "\n",
    "if coupon == 'Cash5000':\n",
    "    cash1 = cash - 5000\n",
    "\n",
    "print(cash1)\n",
    "\n"
   ]
  },
  {
   "cell_type": "code",
   "execution_count": 11,
   "metadata": {},
   "outputs": [
    {
     "name": "stdout",
     "output_type": "stream",
     "text": [
      "67000\n"
     ]
    }
   ],
   "source": [
    "cash = int(input(''))\n",
    "coupon = input('')\n",
    "\n",
    "if coupon == 'Cash3000':\n",
    "    cash1 = cash - 3000\n",
    "\n",
    "if coupon == 'Cash5000':\n",
    "    cash1 = cash - 5000\n",
    "\n",
    "print(cash1)\n",
    "\n"
   ]
  },
  {
   "cell_type": "markdown",
   "metadata": {},
   "source": [
    "### 14 심사문제\n",
    "<pre>\n",
    "표준 입력으로 국어, 영어, 수학, 과학 점수가 입력됩니다. \n",
    "여기서 네 과목의 평균 점수가 80점 이상일 때 합격이라고 정했습니다. \n",
    "평균 점수에 따라 '합격', '불합격'을 출력하는 프로그램을 만드세요\n",
    "(input에서 안내 문자열은 출력하지 않아야 합니다). \n",
    "단, 점수는 0점부터 100점까지만 입력받을 수 있으며 범위를 벗어났다면 \n",
    "'잘못된 점수'를 출력하고 합격, 불합격 여부는 출력하지 않아야 합니다.\n",
    "\n",
    "judge_if_else.py\n",
    "________________\n",
    "________________\n",
    "________________\n",
    "________________\n",
    "________________\n",
    "________________\n",
    "________________\n",
    "________________\n",
    "\n",
    "입력\n",
    "89 72 93 82\n",
    "\n",
    "결과\n",
    "합격\n",
    "\n",
    "입력\n",
    "100 79 68 71\n",
    "\n",
    "결과\n",
    "불합격\n",
    "\n",
    "입력\n",
    "99 85 101 90\n",
    "\n",
    "결과\n",
    "잘못된 점수\n",
    "</pre>"
   ]
  },
  {
   "cell_type": "code",
   "execution_count": 37,
   "metadata": {},
   "outputs": [
    {
     "name": "stdout",
     "output_type": "stream",
     "text": [
      "합격\n"
     ]
    }
   ],
   "source": [
    "# 입력 89 72 93 82\n",
    "kor , eng , mat , sci = map(int,input('').split())\n",
    "if 0 <= kor <= 100 and 0 <= eng <= 100 and 0 <= mat <= 100 and 0 <= sci <= 100:\n",
    "                if (kor+eng+mat+sci)//4 >= 80:\n",
    "                    print('합격')\n",
    "                else:\n",
    "                    (kor+eng+mat+sci)//4 < 80\n",
    "                    print('불합격')    \n",
    "else : print('잘못된 점수')"
   ]
  },
  {
   "cell_type": "code",
   "execution_count": 36,
   "metadata": {},
   "outputs": [
    {
     "name": "stdout",
     "output_type": "stream",
     "text": [
      "불합격\n"
     ]
    }
   ],
   "source": [
    "# 입력 100 79 68 71\n",
    "kor , eng , mat , sci = map(int,input('').split())\n",
    "if 0 <= kor <= 100 and 0 <= eng <= 100 and 0 <= mat <= 100 and 0 <= sci <= 100:\n",
    "                if (kor+eng+mat+sci)//4 >= 80:\n",
    "                    print('합격')\n",
    "                else:\n",
    "                    (kor+eng+mat+sci)//4 < 80\n",
    "                    print('불합격')    \n",
    "else : print('잘못된 점수')"
   ]
  },
  {
   "cell_type": "code",
   "execution_count": 35,
   "metadata": {},
   "outputs": [
    {
     "name": "stdout",
     "output_type": "stream",
     "text": [
      "잘못된 점수\n"
     ]
    }
   ],
   "source": [
    "# 입력 99 85 101 90\n",
    "kor , eng , mat , sci = map(int,input('').split())\n",
    "if 0 <= kor <= 100 and 0 <= eng <= 100 and 0 <= mat <= 100 and 0 <= sci <= 100:\n",
    "                if (kor+eng+mat+sci)//4 >= 80:\n",
    "                    print('합격')\n",
    "                else:\n",
    "                    (kor+eng+mat+sci)//4 < 80\n",
    "                    print('불합격')    \n",
    "else : print('잘못된 점수')"
   ]
  },
  {
   "cell_type": "code",
   "execution_count": 31,
   "metadata": {},
   "outputs": [],
   "source": [
    "# 이거는 왜 안되지? 확인필요\n",
    "# 입력 99 85 101 90\n",
    "kor , eng , mat , sci = map(int,input('').split())\n",
    "if 0 <= kor <= 100:\n",
    "    if 0 <= eng <= 100:\n",
    "        if 0 <= mat <= 100:\n",
    "            if 0 <= sci <= 100:\n",
    "                if (kor+eng+mat+sci)//4 >= 80:\n",
    "                    print('합격')\n",
    "                else:\n",
    "                    (kor+eng+mat+sci)//4 < 80\n",
    "                    print('불합격')    \n",
    "else : print('잘못된 점수')"
   ]
  },
  {
   "cell_type": "markdown",
   "metadata": {},
   "source": [
    "### 15 심사문제\n",
    "<pre>\n",
    "표준 입력으로 나이(만 나이)가 입력됩니다(입력 값은 7 이상 입력됨). \n",
    "교통카드 시스템에서 시내버스 요금은 다음과 같으며 각 나이에 맞게 \n",
    "요금을 차감한 뒤 잔액이 출력되게 만드세요(if, elif 사용). \n",
    "현재 교통카드에는 9,000원이 들어있습니다.\n",
    "\n",
    "어린이(초등학생, 만 7세 이상 12세 이하): 650원\n",
    "청소년(중∙고등학생, 만 13세 이상 18세 이하): 1,050원\n",
    "어른(일반, 만 19세 이상): 1,250원\n",
    "\n",
    "judge_if_elif.py\n",
    "age = int(input())\n",
    "balance = 9000    # 교통카드 잔액\n",
    "\n",
    "________________\n",
    "________________\n",
    "________________\n",
    "\n",
    "print(balance)\n",
    "\n",
    "\n",
    "입력\n",
    "17\n",
    "\n",
    "결과\n",
    "7950\n",
    "\n",
    "입력\n",
    "12\n",
    "\n",
    "결과\n",
    "8350\n",
    "</pre>"
   ]
  },
  {
   "cell_type": "code",
   "execution_count": 46,
   "metadata": {},
   "outputs": [
    {
     "name": "stdout",
     "output_type": "stream",
     "text": [
      "7950\n"
     ]
    }
   ],
   "source": [
    "# 17 입력시\n",
    "age = int(input())\n",
    "balance = 9000 # 교통카드 잔액\n",
    "if 7 <= age <= 12:\n",
    "    now_balance = balance - 650\n",
    "elif 13 <= age <= 18:\n",
    "    now_balance = balance - 1050\n",
    "else:\n",
    "    19 <= age\n",
    "    now_balance = balance - 1250\n",
    "print(now_balance)\n"
   ]
  },
  {
   "cell_type": "code",
   "execution_count": 47,
   "metadata": {},
   "outputs": [
    {
     "name": "stdout",
     "output_type": "stream",
     "text": [
      "8350\n"
     ]
    }
   ],
   "source": [
    "# 12 입력시\n",
    "age = int(input())\n",
    "balance = 9000 # 교통카드 잔액\n",
    "if 7 <= age <= 12:\n",
    "    now_balance = balance - 650\n",
    "elif 13 <= age <= 18:\n",
    "    now_balance = balance - 1050\n",
    "else:\n",
    "    19 <= age\n",
    "    now_balance = balance - 1250\n",
    "print(now_balance)\n"
   ]
  },
  {
   "cell_type": "markdown",
   "metadata": {},
   "source": [
    "### 16 심사문제\n",
    "<pre>\n",
    "표준 입력으로 정수가 입력됩니다. \n",
    "입력된 정수의 구구단을 출력하는 프로그램을 만드세요\n",
    "(input에서 안내 문자열은 출력하지 않아야 합니다). \n",
    "출력 형식은 숫자 * 숫자 = 숫자처럼 만들고 숫자와 *, = 사이는 공백을 한 칸 띄웁니다.\n",
    "\n",
    "judge_for_range_multiplication_table.py\n",
    "________________\n",
    "________________\n",
    "________________\n",
    "\n",
    "입력\n",
    "2\n",
    "\n",
    "결과\n",
    "2 * 1 = 2\n",
    "2 * 2 = 4\n",
    "2 * 3 = 6\n",
    "2 * 4 = 8\n",
    "2 * 5 = 10\n",
    "2 * 6 = 12\n",
    "2 * 7 = 14\n",
    "2 * 8 = 16\n",
    "2 * 9 = 18\n",
    "\n",
    "입력\n",
    "7\n",
    "\n",
    "결과\n",
    "7 * 1 = 7\n",
    "7 * 2 = 14\n",
    "7 * 3 = 21\n",
    "7 * 4 = 28\n",
    "7 * 5 = 35\n",
    "7 * 6 = 42\n",
    "7 * 7 = 49\n",
    "7 * 8 = 56\n",
    "7 * 9 = 63\n",
    "\n",
    "</pre>"
   ]
  },
  {
   "cell_type": "code",
   "execution_count": 50,
   "metadata": {},
   "outputs": [
    {
     "name": "stdout",
     "output_type": "stream",
     "text": [
      "2 * 1 = 2\n",
      "2 * 2 = 4\n",
      "2 * 3 = 6\n",
      "2 * 4 = 8\n",
      "2 * 5 = 10\n",
      "2 * 6 = 12\n",
      "2 * 7 = 14\n",
      "2 * 8 = 16\n",
      "2 * 9 = 18\n"
     ]
    }
   ],
   "source": [
    "# 입력값 2\n",
    "i = int(input(''))\n",
    "for j in range(1,10):\n",
    "    k = i * j\n",
    "    print(i,j,sep=' * ',end=' = '), print(k)\n"
   ]
  },
  {
   "cell_type": "code",
   "execution_count": 52,
   "metadata": {},
   "outputs": [
    {
     "name": "stdout",
     "output_type": "stream",
     "text": [
      "7 * 1  =  7\n",
      "7 * 2  =  14\n",
      "7 * 3  =  21\n",
      "7 * 4  =  28\n",
      "7 * 5  =  35\n",
      "7 * 6  =  42\n",
      "7 * 7  =  49\n",
      "7 * 8  =  56\n",
      "7 * 9  =  63\n"
     ]
    }
   ],
   "source": [
    "# 입력값 7\n",
    "i = int(input(''))\n",
    "for j in range(1,10):\n",
    "    k = i * j\n",
    "    print(i , '*' , j , ' = ' , k)\n"
   ]
  },
  {
   "cell_type": "markdown",
   "metadata": {},
   "source": [
    "### 17 심사문제\n",
    "<pre>\n",
    "표준 입력으로 금액(정수)이 입력됩니다. \n",
    "1회당 요금은 1,350원이고, \n",
    "교통카드를 사용했을 때마다의 잔액을 각 줄에 출력하는 프로그램을 만드세요\n",
    "(input에서 안내 문자열은 출력하지 않아야 합니다). \n",
    "단, 최초 금액은 출력하지 않아야 합니다. \n",
    "그리고 잔액은 음수가 될 수 없으며 잔액이 부족하면 출력을 끝냅니다.\n",
    "\n",
    "judge_while.py\n",
    "________________\n",
    "________________\n",
    "\n",
    "입력\n",
    "10000\n",
    "\n",
    "결과\n",
    "8650\n",
    "7300\n",
    "5950\n",
    "4600\n",
    "3250\n",
    "1900\n",
    "550\n",
    "\n",
    "입력\n",
    "13500\n",
    "\n",
    "결과\n",
    "12150\n",
    "10800\n",
    "9450\n",
    "8100\n",
    "6750\n",
    "5400\n",
    "4050\n",
    "2700\n",
    "1350\n",
    "0\n",
    "</pre>"
   ]
  },
  {
   "cell_type": "code",
   "execution_count": 70,
   "metadata": {},
   "outputs": [
    {
     "name": "stdout",
     "output_type": "stream",
     "text": [
      "8650\n",
      "7300\n",
      "5950\n",
      "4600\n",
      "3250\n",
      "1900\n",
      "550\n"
     ]
    }
   ],
   "source": [
    "# 10000을 입력했을 시\n",
    "i = int(input(''))\n",
    "while i >= 0:\n",
    "    i = i - 1350\n",
    "    if i >= 0:\n",
    "        print(i)\n",
    "\n"
   ]
  },
  {
   "cell_type": "code",
   "execution_count": 73,
   "metadata": {},
   "outputs": [
    {
     "name": "stdout",
     "output_type": "stream",
     "text": [
      "12150\n",
      "10800\n",
      "9450\n",
      "8100\n",
      "6750\n",
      "5400\n",
      "4050\n",
      "2700\n",
      "1350\n",
      "0\n"
     ]
    }
   ],
   "source": [
    "# 13500을 입력했을 시\n",
    "i = int(input(''))\n",
    "while i >= 0:\n",
    "    i = i - 1350\n",
    "    if i >= 0:\n",
    "        print(i)\n",
    "\n",
    "    "
   ]
  },
  {
   "cell_type": "markdown",
   "metadata": {},
   "source": [
    "### 18 심사문제\n",
    "<pre>\n",
    "표준 입력으로 정수 두 개가 입력됩니다\n",
    "(첫 번째 입력 값의 범위는 1~200, \n",
    " 두 번째 입력 값의 범위는 10~200이며 \n",
    " 첫 번째 입력 값은 두 번째 입력 값보다 항상 작습니다).\n",
    " 다음 소스 코드를 완성하여 첫 번째 정수와 두 번째 정수 사이의 숫자 중 \n",
    " 3으로 끝나지 않는 숫자가 출력되게 만드세요.\n",
    " 정답에 코드를 작성할 때는 while True:에 맞춰서 들여쓰기를 해주세요.\n",
    "\n",
    "judge_exclude_number_ending_3.py\n",
    "\n",
    "start, stop = map(int, input().split())\n",
    " \n",
    "i = start\n",
    " \n",
    "while True:\n",
    "_____________________\n",
    "_____________________\n",
    "_____________________\n",
    "_____________________\n",
    "_____________________\n",
    "    print(i, end=' ')\n",
    "    i += 1\n",
    "\n",
    "\n",
    "입력\n",
    "1 20\n",
    "\n",
    "결과\n",
    "1 2 4 5 6 7 8 9 10 11 12 14 15 16 17 18 19 20\n",
    "\n",
    "입력\n",
    "21 33\n",
    "\n",
    "결과\n",
    "21 22 24 25 26 27 28 29 30 31 32\n",
    "</pre>"
   ]
  },
  {
   "cell_type": "code",
   "execution_count": 95,
   "metadata": {},
   "outputs": [
    {
     "name": "stdout",
     "output_type": "stream",
     "text": [
      "1 2 4 5 6 7 8 9 10 11 12 14 15 16 17 18 19 20 "
     ]
    }
   ],
   "source": [
    "# 입력값 1 20 일때\n",
    "start, stop = map(int, input().split())\n",
    "i = start\n",
    "while True:\n",
    "    if i % 10 == 3:\n",
    "        i = i + 1\n",
    "        continue\n",
    "    if i > stop: \n",
    "        break\n",
    "    print(i, end=' ')\n",
    "    i += 1"
   ]
  },
  {
   "cell_type": "code",
   "execution_count": 94,
   "metadata": {},
   "outputs": [
    {
     "name": "stdout",
     "output_type": "stream",
     "text": [
      "21 22 24 25 26 27 28 29 30 31 32 "
     ]
    }
   ],
   "source": [
    "# 입력값 21 33 일때\n",
    "start, stop = map(int, input().split())\n",
    "i = start\n",
    "while True:\n",
    "    if i % 10 == 3:\n",
    "        i = i + 1\n",
    "        continue\n",
    "    if i > stop: \n",
    "        break\n",
    "    print(i, end=' ')\n",
    "    i += 1"
   ]
  },
  {
   "cell_type": "markdown",
   "metadata": {},
   "source": [
    "### 19 심사문제\n",
    "<pre>\n",
    "표준 입력으로 삼각형의 높이가 입력됩니다. \n",
    "입력된 높이만큼 산 모양으로 별을 출력하는 프로그램을 만드세요\n",
    "(input에서 안내 문자열은 출력하지 않아야 합니다).\n",
    "이때 출력 결과는 예제와 정확히 일치해야 합니다. \n",
    "모양이 같더라도 공백이나 빈 줄이 더 들어가면 틀린 것으로 처리됩니다.\n",
    "\n",
    "judge_star_mountain.py\n",
    "\n",
    "입력\n",
    "3\n",
    "\n",
    "결과\n",
    "  *\n",
    " ***\n",
    "*****\n",
    "\n",
    "입력\n",
    "5\n",
    "\n",
    "결과\n",
    "    *\n",
    "   ***\n",
    "  *****\n",
    " *******\n",
    "*********\n",
    "</pre>"
   ]
  },
  {
   "cell_type": "code",
   "execution_count": 111,
   "metadata": {},
   "outputs": [
    {
     "name": "stdout",
     "output_type": "stream",
     "text": [
      "  *\n",
      " ***\n",
      "*****\n"
     ]
    }
   ],
   "source": [
    "# 3을 입력햇을때\n",
    "n=int(input(''))\n",
    "for i in range(n):\n",
    "    for k in range(n-1-i):\n",
    "        print(' ', end='')\n",
    "    for k in range(2*i+1):\n",
    "        print('*', end='')\n",
    "    print()\n",
    "\n"
   ]
  },
  {
   "cell_type": "code",
   "execution_count": 110,
   "metadata": {},
   "outputs": [
    {
     "name": "stdout",
     "output_type": "stream",
     "text": [
      "    *\n",
      "   ***\n",
      "  *****\n",
      " *******\n",
      "*********\n"
     ]
    }
   ],
   "source": [
    "# 5을 입력햇을때\n",
    "n=int(input(''))\n",
    "for i in range(n):\n",
    "    for k in range(n-1-i):\n",
    "        print(' ', end='')\n",
    "    for k in range(2*i+1):\n",
    "        print('*', end='')\n",
    "    print()"
   ]
  },
  {
   "cell_type": "markdown",
   "metadata": {},
   "source": [
    "### 20 심사문제\n",
    "<pre>\n",
    "표준 입력으로 정수 두 개가 입력됩니다\n",
    "(첫 번째 입력 값의 범위는 1~1000, \n",
    "두 번째 입력 값의 범위는 10~1000이며 \n",
    "첫 번째 입력 값은 두 번째 입력 값보다 항상 작습니다). \n",
    "첫 번째 정수부터 두 번째 정수까지 숫자를 출력하면서 5의 배수일 때는 'Fizz', \n",
    "7의 배수일 때는 'Buzz', \n",
    "5와 7의 공배수일 때는 'FizzBuzz'를 출력하는 프로그램을 만드세요\n",
    "(input에서 안내 문자열은 출력하지 않아야 합니다).\n",
    "\n",
    "judge_fizzbuzz_5_7.py\n",
    "________________\n",
    "________________\n",
    "\n",
    "\n",
    "입력\n",
    "35 40\n",
    "\n",
    "결과\n",
    "FizzBuzz\n",
    "36\n",
    "37\n",
    "38\n",
    "39\n",
    "Fizz\n",
    "</pre>"
   ]
  },
  {
   "cell_type": "code",
   "execution_count": 131,
   "metadata": {},
   "outputs": [
    {
     "name": "stdout",
     "output_type": "stream",
     "text": [
      "FizzBuzz\n",
      "36\n",
      "37\n",
      "38\n",
      "39\n",
      "Fizz\n"
     ]
    }
   ],
   "source": [
    "# 입력 35 40\n",
    "a,b=map(int,input('').split())\n",
    "for i in range(a,b+1):\n",
    "    if i % 5 == 0 and i % 7 == 0:\n",
    "        print('FizzBuzz')\n",
    "    elif i % 5 == 0:\n",
    "        print('Fizz')\n",
    "    elif i % 7 == 0 :\n",
    "        print('Buzz')\n",
    "    else:\n",
    "        print(i)"
   ]
  },
  {
   "cell_type": "code",
   "execution_count": 126,
   "metadata": {},
   "outputs": [
    {
     "name": "stdout",
     "output_type": "stream",
     "text": [
      "FizzBuzz 36 37 38 39 Fizz "
     ]
    }
   ],
   "source": [
    "#  가로로 출력됨 \n",
    "a,b=map(int,input('').split())\n",
    "for i in range(a,b+1):\n",
    "    if i % 5 == 0 and i % 7 == 0:\n",
    "        print('FizzBuzz', end=' ')\n",
    "    elif i % 5 == 0:\n",
    "        print('Fizz', end= ' ')\n",
    "    elif i % 7 == 0 :\n",
    "        print('Buzz', end=' ')\n",
    "    else:\n",
    "        print(i, end=' ')\n"
   ]
  },
  {
   "cell_type": "code",
   "execution_count": null,
   "metadata": {},
   "outputs": [],
   "source": []
  }
 ],
 "metadata": {
  "interpreter": {
   "hash": "9528276d7147921ccf3eb8613d5de8fb77d072562e0af527ab4e2e91c3f6962f"
  },
  "kernelspec": {
   "display_name": "Python 3.9.7 ('base')",
   "language": "python",
   "name": "python3"
  },
  "language_info": {
   "codemirror_mode": {
    "name": "ipython",
    "version": 3
   },
   "file_extension": ".py",
   "mimetype": "text/x-python",
   "name": "python",
   "nbconvert_exporter": "python",
   "pygments_lexer": "ipython3",
   "version": "3.9.7"
  },
  "orig_nbformat": 4
 },
 "nbformat": 4,
 "nbformat_minor": 2
}
