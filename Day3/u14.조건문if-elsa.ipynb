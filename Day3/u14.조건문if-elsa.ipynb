{
 "cells": [
  {
   "cell_type": "markdown",
   "metadata": {},
   "source": [
    "# Unit 14. 조건문 if - else"
   ]
  },
  {
   "cell_type": "markdown",
   "metadata": {},
   "source": [
    "### 14.1 else"
   ]
  },
  {
   "cell_type": "code",
   "execution_count": 1,
   "metadata": {},
   "outputs": [],
   "source": [
    "import random"
   ]
  },
  {
   "cell_type": "code",
   "execution_count": 2,
   "metadata": {},
   "outputs": [
    {
     "name": "stdout",
     "output_type": "stream",
     "text": [
      "큰 수\n",
      "5\n"
     ]
    }
   ],
   "source": [
    "x = random.randint(1,6)\n",
    "if x >=4:\n",
    "    print('큰 수')\n",
    "else:\n",
    "    print('작은 수')\n",
    "print(x)"
   ]
  },
  {
   "cell_type": "code",
   "execution_count": 3,
   "metadata": {},
   "outputs": [
    {
     "name": "stdout",
     "output_type": "stream",
     "text": [
      "5 odd number\n"
     ]
    }
   ],
   "source": [
    "x=random.randint(1,6)\n",
    "if x % 2 ==0:\n",
    "    result = 'even number'\n",
    "else:\n",
    "    result = 'odd number'\n",
    "print(x, result)\n"
   ]
  },
  {
   "cell_type": "markdown",
   "metadata": {},
   "source": [
    "- 조건부 표현식 (3항연산자)"
   ]
  },
  {
   "cell_type": "code",
   "execution_count": 4,
   "metadata": {},
   "outputs": [
    {
     "name": "stdout",
     "output_type": "stream",
     "text": [
      "5 odd number\n"
     ]
    }
   ],
   "source": [
    "# Java , JS 에서는 result =x % 2 ==0 ? \"even\" : \"odd\" ;\n",
    "\n",
    "resule = 'even' if x % 2 ==0 else 'odd'\n",
    "print(x, result)"
   ]
  },
  {
   "cell_type": "markdown",
   "metadata": {},
   "source": [
    "### 14.2 else 와 들여쓰기"
   ]
  },
  {
   "cell_type": "code",
   "execution_count": 12,
   "metadata": {},
   "outputs": [
    {
     "name": "stdout",
     "output_type": "stream",
     "text": [
      "10입니다\n",
      "10이 아닙니다\n"
     ]
    }
   ],
   "source": [
    "x = 10\n",
    "if x == 10:\n",
    "    print ('10입니다')\n",
    "else:\n",
    "    print('x 에 들어있는 숫자는')\n",
    "print('10이 아닙니다')\n"
   ]
  },
  {
   "cell_type": "code",
   "execution_count": 11,
   "metadata": {},
   "outputs": [
    {
     "name": "stdout",
     "output_type": "stream",
     "text": [
      "10입니다\n"
     ]
    }
   ],
   "source": [
    "if x == 10:\n",
    "    print ('10입니다')\n",
    "else:\n",
    "    print('x 에 들어있는 숫자는')\n",
    "    print('10이 아닙니다')"
   ]
  },
  {
   "cell_type": "markdown",
   "metadata": {},
   "source": [
    "### 14.3 동작방식"
   ]
  },
  {
   "cell_type": "code",
   "execution_count": 16,
   "metadata": {},
   "outputs": [
    {
     "name": "stdout",
     "output_type": "stream",
     "text": [
      "(0, 0)\n"
     ]
    }
   ],
   "source": [
    "x = 0,0\n",
    "if x:\n",
    "    print(x)\n",
    "else:\n",
    "    print('0,0.0,\"\", False, None 입니다.')"
   ]
  },
  {
   "cell_type": "markdown",
   "metadata": {},
   "source": [
    "### 14.4 여러개의 조건식"
   ]
  },
  {
   "cell_type": "code",
   "execution_count": 30,
   "metadata": {},
   "outputs": [
    {
     "name": "stdout",
     "output_type": "stream",
     "text": [
      "FizzBuzz\n"
     ]
    }
   ],
   "source": [
    "#3과 5의 공배수면 FizzBuzz 를 출력\n",
    "#위의 경우가 아니면 숫자값을 출력\n",
    "\n",
    "x = random.randint(1,100)\n",
    "if x % 3 == 0 and x % 5 == 0:\n",
    "    print('FizzBuzz')\n",
    "else:\n",
    "    print(x)"
   ]
  },
  {
   "cell_type": "code",
   "execution_count": 35,
   "metadata": {},
   "outputs": [
    {
     "name": "stdout",
     "output_type": "stream",
     "text": [
      "10이상 20 이하\n"
     ]
    }
   ],
   "source": [
    "x=14\n",
    "if x >= 10 and x <= 20:\n",
    "    print('10이상 20 이하')\n",
    "else:\n",
    "    print(x)"
   ]
  },
  {
   "cell_type": "code",
   "execution_count": 36,
   "metadata": {},
   "outputs": [
    {
     "name": "stdout",
     "output_type": "stream",
     "text": [
      "10이상 20 이하\n"
     ]
    }
   ],
   "source": [
    "if 10 <= x <= 20:\n",
    "    print('10이상 20 이하')\n",
    "else:\n",
    "    print(x)"
   ]
  },
  {
   "cell_type": "markdown",
   "metadata": {},
   "source": [
    "### 연습문제\n",
    "<pre>\n",
    "4로 나누면 윤년\n",
    "100으로 나누어지면 평년\n",
    "400으로 나누어지면 윤년\n",
    "그 외는 평년\n",
    "</pre>"
   ]
  },
  {
   "cell_type": "code",
   "execution_count": 42,
   "metadata": {},
   "outputs": [
    {
     "ename": "SyntaxError",
     "evalue": "invalid syntax (Temp/ipykernel_15160/1124570754.py, line 7)",
     "output_type": "error",
     "traceback": [
      "\u001b[1;36m  File \u001b[1;32m\"C:\\Users\\kos\\AppData\\Local\\Temp/ipykernel_15160/1124570754.py\"\u001b[1;36m, line \u001b[1;32m7\u001b[0m\n\u001b[1;33m    else:\u001b[0m\n\u001b[1;37m    ^\u001b[0m\n\u001b[1;31mSyntaxError\u001b[0m\u001b[1;31m:\u001b[0m invalid syntax\n"
     ]
    }
   ],
   "source": [
    "x\n",
    "if x % 400 == 0:\n",
    "    print('윤년')\n",
    "else: \n",
    "    x % 100 ==0\n",
    "    print('평년')\n",
    "else: \n",
    "    x % 4 == 0\n",
    "    print('윤년')"
   ]
  },
  {
   "cell_type": "code",
   "execution_count": 53,
   "metadata": {},
   "outputs": [
    {
     "name": "stdout",
     "output_type": "stream",
     "text": [
      "윤년\n"
     ]
    }
   ],
   "source": [
    "x = 1900\n",
    "if x % 400 == 0 or x % 4 == 0:\n",
    "    print('윤년')\n",
    "else: \n",
    "    x % 100 ==0\n",
    "    print('평년')\n"
   ]
  },
  {
   "cell_type": "code",
   "execution_count": 57,
   "metadata": {},
   "outputs": [
    {
     "name": "stdout",
     "output_type": "stream",
     "text": [
      "2020 윤년\n"
     ]
    }
   ],
   "source": [
    "x = 2020\n",
    "if x % 4 == 0:\n",
    "    if x % 100 == 0 :\n",
    "        if x % 400 == 0:\n",
    "            print(x,'윤년')\n",
    "        else:\n",
    "            print(x,'평년')\n",
    "    else:\n",
    "        print(x, '윤년')\n",
    "else:\n",
    "    print(x , '평년')\n"
   ]
  },
  {
   "cell_type": "code",
   "execution_count": 61,
   "metadata": {},
   "outputs": [
    {
     "name": "stdout",
     "output_type": "stream",
     "text": [
      "1900 평년\n"
     ]
    }
   ],
   "source": [
    "# code Refactoring\n",
    "x = 1900\n",
    "if x % 4 == 0:\n",
    "    if x % 100 == 0 and x % 400 !=0:\n",
    "        print(x,'평년')\n",
    "    else:\n",
    "        print(x, '윤년')\n",
    "else:\n",
    "    print(x , '평년')"
   ]
  },
  {
   "cell_type": "code",
   "execution_count": 62,
   "metadata": {},
   "outputs": [
    {
     "name": "stdout",
     "output_type": "stream",
     "text": [
      "1900 평년\n"
     ]
    }
   ],
   "source": [
    "# not(a and b) = not a or not b\n",
    "if x % 4 == 0 and not (x % 100 == 0 and x % 400 != 0):\n",
    "    print(x, '윤년')\n",
    "else:\n",
    "    print(x,'평년')"
   ]
  },
  {
   "cell_type": "code",
   "execution_count": null,
   "metadata": {},
   "outputs": [],
   "source": []
  }
 ],
 "metadata": {
  "interpreter": {
   "hash": "9528276d7147921ccf3eb8613d5de8fb77d072562e0af527ab4e2e91c3f6962f"
  },
  "kernelspec": {
   "display_name": "Python 3.9.7 ('base')",
   "language": "python",
   "name": "python3"
  },
  "language_info": {
   "codemirror_mode": {
    "name": "ipython",
    "version": 3
   },
   "file_extension": ".py",
   "mimetype": "text/x-python",
   "name": "python",
   "nbconvert_exporter": "python",
   "pygments_lexer": "ipython3",
   "version": "3.9.7"
  },
  "orig_nbformat": 4
 },
 "nbformat": 4,
 "nbformat_minor": 2
}
