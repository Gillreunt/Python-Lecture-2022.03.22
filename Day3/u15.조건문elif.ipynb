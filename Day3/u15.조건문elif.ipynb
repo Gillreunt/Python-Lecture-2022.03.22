{
 "cells": [
  {
   "cell_type": "markdown",
   "metadata": {},
   "source": [
    "# Unit 15. 조건문 elif"
   ]
  },
  {
   "cell_type": "code",
   "execution_count": 3,
   "metadata": {},
   "outputs": [
    {
     "name": "stdout",
     "output_type": "stream",
     "text": [
      "81 B\n"
     ]
    }
   ],
   "source": [
    "# 90점 이상 A \n",
    "# 80점 이상 B\n",
    "# 70점 이상 C\n",
    "# 60점 이상 D\n",
    "# 나머지 F\n",
    "import random\n",
    "score = random.randint(40,100)\n",
    "if score >= 90:\n",
    "    grade = 'A'\n",
    "elif score >= 80:\n",
    "    grade = 'B'\n",
    "elif score >= 70:\n",
    "    grade = 'C'\n",
    "elif score >= 60:\n",
    "    grade = 'D'\n",
    "else:\n",
    "    grade = 'F'\n",
    "print(score,grade)"
   ]
  },
  {
   "cell_type": "code",
   "execution_count": 4,
   "metadata": {},
   "outputs": [
    {
     "name": "stdout",
     "output_type": "stream",
     "text": [
      "99 A\n"
     ]
    }
   ],
   "source": [
    "score = random.randint(40,100)\n",
    "grade = 'A' if score >= 90 else\\\n",
    "        'B' if score >= 80 else\\\n",
    "        'C' if score >= 70 else\\\n",
    "        'D' if score >= 60 else 'F'\n",
    "print(score, grade)   "
   ]
  },
  {
   "cell_type": "markdown",
   "metadata": {},
   "source": [
    "### 연습문제\n",
    "<pre>\n",
    "생일을 입력으로 받아 오늘 현재의 만 나이를 계산하세요\n",
    "</pre>"
   ]
  },
  {
   "cell_type": "code",
   "execution_count": 8,
   "metadata": {},
   "outputs": [
    {
     "data": {
      "text/plain": [
       "(2022, 3, 25)"
      ]
     },
     "execution_count": 8,
     "metadata": {},
     "output_type": "execute_result"
    }
   ],
   "source": [
    "import datetime as dt\n",
    "today = dt.date.today()\n",
    "today.year, today.month , today.day"
   ]
  },
  {
   "cell_type": "code",
   "execution_count": 12,
   "metadata": {},
   "outputs": [
    {
     "ename": "SyntaxError",
     "evalue": "invalid syntax (Temp/ipykernel_17868/3993920652.py, line 3)",
     "output_type": "error",
     "traceback": [
      "\u001b[1;36m  File \u001b[1;32m\"C:\\Users\\kos\\AppData\\Local\\Temp/ipykernel_17868/3993920652.py\"\u001b[1;36m, line \u001b[1;32m3\u001b[0m\n\u001b[1;33m    if today.month\u001b[0m\n\u001b[1;37m                  ^\u001b[0m\n\u001b[1;31mSyntaxError\u001b[0m\u001b[1;31m:\u001b[0m invalid syntax\n"
     ]
    }
   ],
   "source": [
    "y , m , d = map(int,input('생년월일').split())\n",
    "if today.month < m:\n",
    "    if today.month >= m:\n",
    "        \n",
    "else:\n",
    "    print(today.year - y)"
   ]
  },
  {
   "cell_type": "code",
   "execution_count": 17,
   "metadata": {},
   "outputs": [],
   "source": [
    "y , m , d = map(int,input('생년월일').split())"
   ]
  },
  {
   "cell_type": "code",
   "execution_count": 16,
   "metadata": {},
   "outputs": [
    {
     "name": "stdout",
     "output_type": "stream",
     "text": [
      "32 1991 3 22\n"
     ]
    }
   ],
   "source": [
    "if today.month < m:                     #생일이 지났으면\n",
    "    age= today.year -y\n",
    "elif today.month > m:                   #생일이 아직 안왔으면\n",
    "    age= today.year -y -1\n",
    "else:                                   #생일이 같으면\n",
    "    if today.day <= d:                  #생일이 지났거나 같으면\n",
    "        age= today.year -y\n",
    "    else:                               #생일이 아직 안왔으면\n",
    "        age= today.year -y - 1\n",
    "print (age, y,m,d)"
   ]
  },
  {
   "cell_type": "code",
   "execution_count": null,
   "metadata": {},
   "outputs": [],
   "source": []
  }
 ],
 "metadata": {
  "interpreter": {
   "hash": "9528276d7147921ccf3eb8613d5de8fb77d072562e0af527ab4e2e91c3f6962f"
  },
  "kernelspec": {
   "display_name": "Python 3.9.7 ('base')",
   "language": "python",
   "name": "python3"
  },
  "language_info": {
   "codemirror_mode": {
    "name": "ipython",
    "version": 3
   },
   "file_extension": ".py",
   "mimetype": "text/x-python",
   "name": "python",
   "nbconvert_exporter": "python",
   "pygments_lexer": "ipython3",
   "version": "3.9.7"
  },
  "orig_nbformat": 4
 },
 "nbformat": 4,
 "nbformat_minor": 2
}
