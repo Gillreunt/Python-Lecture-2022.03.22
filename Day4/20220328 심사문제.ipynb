{
 "cells": [
  {
   "cell_type": "markdown",
   "metadata": {},
   "source": [
    "### 22 심사문제\n",
    "<pre>\n",
    "표준 입력으로 정수 두 개가 입력됩니다\n",
    "(첫 번째 입력 값의 범위는 1~20, \n",
    "두 번째 입력 값의 범위는 10~30이며 \n",
    "첫 번째 입력 값은 두 번째 입력 값보다 항상 작습니다). \n",
    "첫 번째 정수부터 두 번째 정수까지를 지수로 하는 2의 거듭제곱 리스트를 \n",
    "출력하는 프로그램을 만드세요\n",
    "(input에서 안내 문자열은 출력하지 않아야 합니다). \n",
    "단, 리스트의 두 번째 요소와 뒤에서 두 번째 요소는 삭제한 뒤 출력하세요. \n",
    "출력 결과는 리스트 형태라야 합니다.\n",
    "\n",
    "judge_list_comprehension.py\n",
    "________________\n",
    "________________\n",
    "________________\n",
    "________________\n",
    "________________\n",
    "\n",
    "\n",
    "입력\n",
    "1 10\n",
    "\n",
    "결과\n",
    "[2, 8, 16, 32, 64, 128, 256, 1024]\n",
    "\n",
    "입력\n",
    "10 20\n",
    "\n",
    "결과\n",
    "[1024, 4096, 8192, 16384, 32768, 65536, 131072, 262144, 1048576]\n",
    "</pre>"
   ]
  },
  {
   "cell_type": "code",
   "execution_count": 56,
   "metadata": {},
   "outputs": [
    {
     "ename": "IndentationError",
     "evalue": "expected an indented block (Temp/ipykernel_6616/1540799048.py, line 7)",
     "output_type": "error",
     "traceback": [
      "\u001b[1;36m  File \u001b[1;32m\"C:\\Users\\kos\\AppData\\Local\\Temp/ipykernel_6616/1540799048.py\"\u001b[1;36m, line \u001b[1;32m7\u001b[0m\n\u001b[1;33m    print(k)\u001b[0m\n\u001b[1;37m            ^\u001b[0m\n\u001b[1;31mIndentationError\u001b[0m\u001b[1;31m:\u001b[0m expected an indented block\n"
     ]
    }
   ],
   "source": [
    "start , stop = list(map(int,input('').split()))\n",
    "\n",
    "for i in range(start, stop+1):\n",
    "    k=[]\n",
    "    for k in range(2**i):\n",
    "        \n",
    "print(k)\n",
    "    \n",
    "\n",
    "\n"
   ]
  },
  {
   "cell_type": "code",
   "execution_count": 58,
   "metadata": {},
   "outputs": [
    {
     "name": "stdout",
     "output_type": "stream",
     "text": [
      "[1024, 4096, 8192, 16384, 32768, 65536, 131072, 262144, 1048576]\n"
     ]
    }
   ],
   "source": [
    "start , stop = map(int,input('').split()) \n",
    "power_list=[]\n",
    "for i in range(start,stop+1):\n",
    "    power_list.append(2**i)\n",
    "del power_list[1]\n",
    "del power_list[-2]\n",
    "print(power_list)"
   ]
  },
  {
   "cell_type": "code",
   "execution_count": 61,
   "metadata": {},
   "outputs": [
    {
     "name": "stdout",
     "output_type": "stream",
     "text": [
      "[1024, 4096, 8192, 16384, 32768, 65536, 131072, 262144, 1048576]\n"
     ]
    }
   ],
   "source": [
    "start , stop = map(int,input('').split()) \n",
    "power_list=[2**i for i in range(start,stop+1)]\n",
    "del power_list[1], power_list[-2]\n",
    "print(power_list)"
   ]
  },
  {
   "cell_type": "markdown",
   "metadata": {},
   "source": [
    "### 23.심사문제\n",
    "<pre>\n",
    "표준 입력으로 2차원 리스트의 가로(col)와 세로(row)가 입력되고 \n",
    "그 다음 줄부터 리스트의 요소로 들어갈 문자가 입력됩니다.\n",
    "이때 2차원 리스트 안에서 *는 지뢰이고 .은 지뢰가 아닙니다.\n",
    "지뢰가 아닌 요소에는 인접한 지뢰의 개수를 출력하는 프로그램을 만드세요\n",
    "(input에서 안내 문자열은 출력하지 않아야 합니다).\n",
    "\n",
    "여러 줄을 입력 받으려면 다음과 같이 for 반복문에서 input을 호출한 뒤 \n",
    "append로 각 줄을 추가하면 됩니다\n",
    "(list 안에 문자열을 넣으면 문자열이 문자 리스트로 변환됩니다).\n",
    "\n",
    "matrix = []\n",
    "for i in range(row):\n",
    "    matrix.append(list(input()))\n",
    "\n",
    "이 문제는 지금까지 심사문제 중에서 가장 어렵습니다. \n",
    "처음 풀어보는 경우 대략 두 시간은 걸립니다. \n",
    "시간을 두고 천천히 고민해서 풀어보세요. \n",
    "지금까지 학습한 내용을 모두 동원해야 풀 수 있으며 \n",
    "막힐 때는 지금까지 학습한 내용을 다시 복습하면서 힌트를 찾아보세요.\n",
    "\n",
    "\n",
    "입력\n",
    "3 3\n",
    ".**\n",
    "*..\n",
    ".*.\n",
    "\n",
    "결과\n",
    "2**\n",
    "*43\n",
    "2*1\n",
    "\n",
    "입력\n",
    "5 5\n",
    "..*..\n",
    "...*.\n",
    ".*...\n",
    ".***.\n",
    "*.*..\n",
    "\n",
    "결과\n",
    "01*21\n",
    "123*1\n",
    "2*532\n",
    "3***1\n",
    "*4*31\n",
    "</pre>"
   ]
  },
  {
   "cell_type": "code",
   "execution_count": null,
   "metadata": {},
   "outputs": [],
   "source": [
    "\n",
    "matrix = []\n",
    "for i in range(row):\n",
    "    matrix.append(list(input()))\n",
    "\n",
    "matrix.padding(col,row)"
   ]
  },
  {
   "cell_type": "code",
   "execution_count": 62,
   "metadata": {},
   "outputs": [
    {
     "name": "stdout",
     "output_type": "stream",
     "text": [
      ". * . . . . * . \n",
      ". . . . * * * * \n",
      ". * . . . . * * \n",
      ". * . . . * . . \n",
      ". . . * . * * . \n",
      ". * * . . * . . \n",
      ". . . . * . . * \n",
      ". . . . . * * . \n"
     ]
    }
   ],
   "source": [
    "import random\n",
    "N=8\n",
    "mines =[]\n",
    "for _ in range(N):\n",
    "    row=[]\n",
    "    for _ in range(N):\n",
    "        if random.random() > 0.7:\n",
    "            row.append('*')\n",
    "        else:\n",
    "            row.append('.')\n",
    "    mines.append(row)\n",
    "\n",
    "for row in mines:\n",
    "    for element in row:\n",
    "        print(element, end=' ')\n",
    "    print()"
   ]
  },
  {
   "cell_type": "code",
   "execution_count": 63,
   "metadata": {},
   "outputs": [],
   "source": [
    "def print_mines(mat):\n",
    "    for row in mat:\n",
    "        for element in row:\n",
    "            print(element, end = ' ')\n",
    "        print()"
   ]
  },
  {
   "cell_type": "code",
   "execution_count": 69,
   "metadata": {},
   "outputs": [
    {
     "name": "stdout",
     "output_type": "stream",
     "text": [
      "* . . . . \n",
      ". . * . * \n",
      "* . . * . \n",
      ". . . * . \n",
      "* . . . . \n"
     ]
    }
   ],
   "source": [
    "N= int (input())\n",
    "mines = [['*' if random.random() > 0.7 else '.' for _ in range(N)] for _ in range(N)]\n",
    "print_mines(mines)"
   ]
  },
  {
   "cell_type": "code",
   "execution_count": 83,
   "metadata": {},
   "outputs": [
    {
     "name": "stdout",
     "output_type": "stream",
     "text": [
      ". . . . . . . \n",
      ". * . . . . . \n",
      ". . . * . * . \n",
      ". * . . * . . \n",
      ". . . . * . . \n",
      ". * . . . . . \n",
      ". . . . . . . \n"
     ]
    }
   ],
   "source": [
    "pad_mines = []\n",
    "pad_mines.append(['.'] * (N+2))\n",
    "for row in mines:\n",
    "    line = ['.']\n",
    "    line.extend(row)\n",
    "    line.append('.')\n",
    "    pad_mines.append(line)\n",
    "pad_mines.append(['.']*(N+2))\n",
    "print_mines(pad_mines)"
   ]
  },
  {
   "cell_type": "code",
   "execution_count": 95,
   "metadata": {},
   "outputs": [
    {
     "name": "stdout",
     "output_type": "stream",
     "text": [
      "* 2 1 2 1 \n",
      "2 3 * 3 * \n",
      "* 2 3 * 3 \n",
      "2 2 2 * 2 \n",
      "* 1 1 1 1 \n"
     ]
    }
   ],
   "source": [
    "final_mines = []\n",
    "for i in range(1,N+1):\n",
    "    row = []\n",
    "    for k in range(1,N+1):\n",
    "        if pad_mines[i][k] == '*':\n",
    "            row.append('*')\n",
    "        else:\n",
    "            count= (pad_mines[i-1][k-1]=='*') + (pad_mines[i-1][k]=='*') + (pad_mines[i-1][k+1]=='*')+ \\\n",
    "                   (pad_mines[i][k-1]=='*') + (pad_mines[i][k+1]=='*') + (pad_mines[i+1][k-1]=='*') +\\\n",
    "                   (pad_mines[i+1][k]=='*') + (pad_mines[i+1][k+1]=='*')\n",
    "            row.append(str(count))\n",
    "    final_mines.append(row)\n",
    "print_mines(final_mines)"
   ]
  },
  {
   "cell_type": "code",
   "execution_count": 79,
   "metadata": {},
   "outputs": [
    {
     "name": "stdout",
     "output_type": "stream",
     "text": [
      "* 2 1 2 1 \n",
      "2 3 * 3 * \n",
      "* 2 3 * 3 \n",
      "2 2 2 * 2 \n",
      "* 1 1 1 1 \n"
     ]
    }
   ],
   "source": [
    "final_mines = []\n",
    "for i in range(1, N+1):\n",
    "    row = []\n",
    "    for k in range(1, N+1):\n",
    "        if pad_mines[i][k] == '*':\n",
    "            row.append('*')\n",
    "        else:\n",
    "            count = (pad_mines[i-1][k-1]=='*') + (pad_mines[i-1][k]=='*') + (pad_mines[i-1][k+1]=='*') + \\\n",
    "                    (pad_mines[i][k-1]=='*') +                              (pad_mines[i][k+1]=='*') + \\\n",
    "                    (pad_mines[i+1][k-1]=='*') + (pad_mines[i+1][k]=='*') + (pad_mines[i+1][k+1]=='*')\n",
    "            row.append(str(count))\n",
    "    final_mines.append(row)\n",
    "\n",
    "print_mines(final_mines)\n"
   ]
  },
  {
   "cell_type": "markdown",
   "metadata": {},
   "source": [
    "연습문제\n",
    "<pre>\n",
    "\n",
    "a+b+c = 1000, a < b < c 를 만족하고\n",
    "a*a +b*b = c*c 를 만족하는 피타고라스 수 a,b,c 는?\n",
    "\n",
    "</pre>"
   ]
  },
  {
   "cell_type": "code",
   "execution_count": 93,
   "metadata": {},
   "outputs": [
    {
     "name": "stdout",
     "output_type": "stream",
     "text": [
      "200 375 425 180625 180625\n"
     ]
    }
   ],
   "source": [
    "for a in range(1,333):\n",
    "    for b in range(a+1,500):\n",
    "        c=1000-a-b\n",
    "        if a*a+b*b == c*c:\n",
    "            print(a,b,c,(a*a) + (b*b) , c**2)\n"
   ]
  },
  {
   "cell_type": "code",
   "execution_count": null,
   "metadata": {},
   "outputs": [],
   "source": []
  }
 ],
 "metadata": {
  "interpreter": {
   "hash": "9528276d7147921ccf3eb8613d5de8fb77d072562e0af527ab4e2e91c3f6962f"
  },
  "kernelspec": {
   "display_name": "Python 3.9.7 ('base')",
   "language": "python",
   "name": "python3"
  },
  "language_info": {
   "codemirror_mode": {
    "name": "ipython",
    "version": 3
   },
   "file_extension": ".py",
   "mimetype": "text/x-python",
   "name": "python",
   "nbconvert_exporter": "python",
   "pygments_lexer": "ipython3",
   "version": "3.9.7"
  },
  "orig_nbformat": 4
 },
 "nbformat": 4,
 "nbformat_minor": 2
}
