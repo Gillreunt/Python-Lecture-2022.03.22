{
 "cells": [
  {
   "cell_type": "markdown",
   "metadata": {},
   "source": [
    "### 심사문제 27\n",
    "<pre>\n",
    "문자열이 저장된 words.txt 파일이 주어집니다\n",
    "(문자열은 한 줄로 저장되어 있습니다). \n",
    "words.txt 파일에서 문자 c가 포함된 단어를 각 줄에 출력하는 프로그램을 만드세요.\n",
    "단어를 출력할 때는 등장한 순서대로 출력해야 하며 \n",
    ",(콤마)와 .(점)은 출력하지 않아야 합니다.\n",
    "\n",
    "judge_file.py\n",
    "________________\n",
    "________________\n",
    "________________\n",
    "________________\n",
    "________________\n",
    "\n",
    "\n",
    "words.txt\n",
    "\n",
    "Fortunately, however, for the reputation of Asteroid B-612, \n",
    "a Turkish dictator made a law that his subjects, \n",
    "under pain of death, should change to European costume. \n",
    "So in 1920 the astronomer gave his demonstration all over again, \n",
    "dressed with impressive style and elegance. \n",
    "And this time everybody accepted his report.\n",
    "\n",
    "표준 출력\n",
    "dictator\n",
    "subjects\n",
    "change\n",
    "costume\n",
    "elegance\n",
    "accepted\n",
    "</pre>"
   ]
  },
  {
   "cell_type": "code",
   "execution_count": 26,
   "metadata": {},
   "outputs": [],
   "source": [
    "data_file='word.txt'\n",
    "file = open(data_file,'w')\n",
    "file.write('Fortunately, however, for the reputation of Asteroid B-612, a Turkish dictator made a law that his subjects, under pain of death, should change to European costume. So in 1920 the astronomer gave his demonstration all over again, dressed with impressive style and elegance. And this time everybody accepted his report.')\n",
    "file.close()"
   ]
  },
  {
   "cell_type": "code",
   "execution_count": 3,
   "metadata": {},
   "outputs": [
    {
     "name": "stdout",
     "output_type": "stream",
     "text": [
      "Fortunately, however, for the reputation of Asteroid B-612, a Turkish dictator made a law that his subjects, under pain of death, should change to European costume. So in 1920 the astronomer gave his demonstration all over again, dressed with impressive style and elegance. And this time everybody accepted his report.\n"
     ]
    }
   ],
   "source": [
    "with open('word.txt') as file:\n",
    "    text = file.read()\n",
    "print(text)"
   ]
  },
  {
   "cell_type": "code",
   "execution_count": 31,
   "metadata": {},
   "outputs": [
    {
     "name": "stdout",
     "output_type": "stream",
     "text": [
      "['Fortunately,', 'however,', 'for', 'the', 'reputation', 'of', 'Asteroid', 'B-612,', 'a', 'Turkish', 'dictator', 'made', 'a', 'law', 'that', 'his', 'subjects,', 'under', 'pain', 'of', 'death,', 'should', 'change', 'to', 'European', 'costume.', 'So', 'in', '1920', 'the', 'astronomer', 'gave', 'his', 'demonstration', 'all', 'over', 'again,', 'dressed', 'with', 'impressive', 'style', 'and', 'elegance.', 'And', 'this', 'time', 'everybody', 'accepted', 'his', 'report.']\n"
     ]
    }
   ],
   "source": [
    "with open('word.txt','r') as file:\n",
    "    text = file.read().split()\n",
    "print(text)"
   ]
  },
  {
   "cell_type": "code",
   "execution_count": 25,
   "metadata": {},
   "outputs": [
    {
     "name": "stdout",
     "output_type": "stream",
     "text": [
      "[]\n"
     ]
    }
   ],
   "source": [
    "\n",
    "with open('word.txt') as file:\n",
    "    text = file.read().split()\n",
    "    text_list=[]\n",
    "    for word in text:\n",
    "        text = word.strip('.,').lower()\n",
    "        if word == 'c':\n",
    "            text_list.append()\n",
    "print(text_list)\n"
   ]
  },
  {
   "cell_type": "code",
   "execution_count": 106,
   "metadata": {},
   "outputs": [
    {
     "name": "stdout",
     "output_type": "stream",
     "text": [
      "report\n"
     ]
    }
   ],
   "source": [
    "\n",
    "with open('word.txt') as file:\n",
    "    text = file.read().split()\n",
    "    for word in text:\n",
    "        text = word.strip('.,').lower()\n",
    "        if word in 'c':\n",
    "            text.append()\n",
    "    print(text)"
   ]
  },
  {
   "cell_type": "code",
   "execution_count": 121,
   "metadata": {},
   "outputs": [
    {
     "name": "stdout",
     "output_type": "stream",
     "text": [
      "['Fortunately,', 'however,', 'for', 'the', 'reputation', 'of', 'Asteroid', 'B-612,', 'a', 'Turkish', 'dictator', 'made', 'a', 'law', 'that', 'his', 'subjects,', 'under', 'pain', 'of', 'death,', 'should', 'change', 'to', 'European', 'costume.', 'So', 'in', '1920', 'the', 'astronomer', 'gave', 'his', 'demonstration', 'all', 'over', 'again,', 'dressed', 'with', 'impressive', 'style', 'and', 'elegance.', 'And', 'this', 'time', 'everybody', 'accepted', 'his', 'report.']\n",
      "report.\n",
      "['dictator', 'subjects,', 'change', 'costume.', 'elegance.', 'accepted']\n"
     ]
    }
   ],
   "source": [
    "\n",
    "with open('word.txt','r') as file:\n",
    "    text = file.read().split()\n",
    "    text2=[]\n",
    "    for text1 in text:\n",
    "###        text2 += text1.lower().strip(\"'.,\")+\" \"\n",
    "        if 'c' in list(text1):\n",
    "            text2.append(text1)\n",
    "\n",
    "\n",
    "\n",
    "            \n",
    "    print(text)\n",
    "    print(text1)\n",
    "    print(text2)\n",
    "    "
   ]
  },
  {
   "cell_type": "code",
   "execution_count": 115,
   "metadata": {},
   "outputs": [
    {
     "data": {
      "text/plain": [
       "['dictator',\n",
       " 'subjects,',\n",
       " 'change',\n",
       " 'costume.',\n",
       " 'elegance.',\n",
       " 'accepted',\n",
       " 'dictator',\n",
       " 'subjects,',\n",
       " 'change',\n",
       " 'costume.',\n",
       " 'elegance.',\n",
       " 'accepted']"
      ]
     },
     "execution_count": 115,
     "metadata": {},
     "output_type": "execute_result"
    }
   ],
   "source": [
    "\n",
    "with open('word.txt','r') as file:\n",
    "    text = file.read().split()\n",
    "    #text2=[]\n",
    "    for text1 in text:\n",
    "        if 'c' in list(text1):\n",
    "            text2.append(text1)\n",
    "text2"
   ]
  },
  {
   "cell_type": "code",
   "execution_count": 116,
   "metadata": {},
   "outputs": [
    {
     "data": {
      "text/plain": [
       "['dictator',\n",
       " 'subjects,',\n",
       " 'change',\n",
       " 'costume.',\n",
       " 'elegance.',\n",
       " 'accepted',\n",
       " 'dictator',\n",
       " 'subjects,',\n",
       " 'change',\n",
       " 'costume.',\n",
       " 'elegance.',\n",
       " 'accepted',\n",
       " 'dictator',\n",
       " 'subjects,',\n",
       " 'change',\n",
       " 'costume.',\n",
       " 'elegance.',\n",
       " 'accepted']"
      ]
     },
     "execution_count": 116,
     "metadata": {},
     "output_type": "execute_result"
    }
   ],
   "source": [
    "with open('word.txt','r') as file:\n",
    "    text = file.read().split()\n",
    "    for text1 in text:\n",
    "        if 'c' in list(text1):\n",
    "            text2.append(text1)\n",
    "text2"
   ]
  },
  {
   "cell_type": "code",
   "execution_count": 153,
   "metadata": {},
   "outputs": [
    {
     "name": "stdout",
     "output_type": "stream",
     "text": [
      "dictator\n",
      "subjects\n",
      "change\n",
      "costume\n",
      "elegance\n",
      "accepted\n"
     ]
    }
   ],
   "source": [
    "with open('word.txt','r') as file:\n",
    "    text = file.read().split()\n",
    "    for text1 in text:\n",
    "        if 'c' in list(text1):\n",
    "            text2 = text1.strip(',.').lower()\n",
    "            print(text2)"
   ]
  },
  {
   "cell_type": "markdown",
   "metadata": {},
   "source": [
    "### 29 심사문제\n",
    "<pre>\n",
    "표준 입력으로 숫자 두 개가 입력됩니다. 다음 소스 코드를 완성하여 \n",
    "두 숫자의 덧셈, 뺄셈, 곱셈, 나눗셈의 결과가 출력되게 만드세요. \n",
    "이때 나눗셈의 결과는 실수라야 합니다.\n",
    "\n",
    "judge_function.py\n",
    "x, y = map(int, input().split())\n",
    "\n",
    "________________\n",
    "________________\n",
    "\n",
    "a, s, m, d = calc(x, y)\n",
    "\n",
    "print('덧셈: {0}, 뺄셈: {1}, 곱셈: {2}, 나눗셈: {3}'.format(a, s, m, d))\n",
    "\n",
    "\n",
    "입력\n",
    "10 20\n",
    "\n",
    "결과\n",
    "덧셈: 30, 뺄셈: -10, 곱셈: 200, 나눗셈: 0.5\n",
    "\n",
    "입력\n",
    "40 8\n",
    "\n",
    "결과\n",
    "덧셈: 48, 뺄셈: 32, 곱셈: 320, 나눗셈: 5.0\n",
    "</pre>"
   ]
  },
  {
   "cell_type": "code",
   "execution_count": 155,
   "metadata": {},
   "outputs": [
    {
     "name": "stdout",
     "output_type": "stream",
     "text": [
      "덧셈: 48, 뺄셈: 32, 곱셈: 320, 나눗셈: 5.0\n"
     ]
    }
   ],
   "source": [
    "x, y = map(int, input().split())\n",
    "def calc(x,y):\n",
    "    a= x+y\n",
    "    s= x-y\n",
    "    m= x*y\n",
    "    d= x/y\n",
    "    return a,s,m,d\n",
    "\n",
    "\n",
    "\n",
    "a, s, m, d = calc(x, y)\n",
    "print('덧셈: {0}, 뺄셈: {1}, 곱셈: {2}, 나눗셈: {3}'.format(a, s, m, d))"
   ]
  },
  {
   "cell_type": "markdown",
   "metadata": {},
   "source": [
    "### 30 심사문제\n",
    "<pre>\n",
    "표준 입력으로 국어, 영어, 수학, 과학 점수가 입력됩니다. \n",
    "다음 소스 코드를 완성하여 가장 높은 점수, 가장 낮은 점수, 평균 점수가 출력되게 만드세요. \n",
    "평균 점수는 실수로 출력되어야 합니다.\n",
    "\n",
    "judge_function_argument.py\n",
    "korean, english, mathematics, science = map(int, input().split())\n",
    "\n",
    "________________\n",
    "________________\n",
    "________________\n",
    "________________\n",
    "\n",
    "min_score, max_score = get_min_max_score(korean, english, mathematics, science)\n",
    "average_score = get_average(korean=korean, english=english,\n",
    "                            mathematics=mathematics, science=science)\n",
    "print('낮은 점수: {0:.2f}, 높은 점수: {1:.2f}, 평균 점수: {2:.2f}'\n",
    "      .format(min_score, max_score, average_score))\n",
    " \n",
    "min_score, max_score = get_min_max_score(english, science)\n",
    "average_score = get_average(english=english, science=science)\n",
    "print('낮은 점수: {0:.2f}, 높은 점수: {1:.2f}, 평균 점수: {2:.2f}'\n",
    "      .format(min_score, max_score, average_score))\n",
    "예\n",
    "입력\n",
    "76 82 89 84\n",
    "\n",
    "결과\n",
    "낮은 점수: 76.00, 높은 점수: 89.00, 평균 점수: 82.75\n",
    "낮은 점수: 82.00, 높은 점수: 84.00, 평균 점수: 83.00\n",
    "\n",
    "입력\n",
    "89 92 73 83\n",
    "\n",
    "결과\n",
    "낮은 점수: 73.00, 높은 점수: 92.00, 평균 점수: 84.25\n",
    "낮은 점수: 83.00, 높은 점수: 92.00, 평균 점수: 87.50\n",
    "</pre>"
   ]
  },
  {
   "cell_type": "code",
   "execution_count": 165,
   "metadata": {},
   "outputs": [
    {
     "name": "stdout",
     "output_type": "stream",
     "text": [
      "낮은 점수: 76.00, 높은 점수: 89.00, 평균 점수: 82.75\n",
      "낮은 점수: 82.00, 높은 점수: 84.00, 평균 점수: 83.00\n"
     ]
    }
   ],
   "source": [
    "korean, english, mathematics, science = map(int, input().split())\n",
    "\n",
    "def get_min_max_score(*args):\n",
    "    min_score = min(*args)\n",
    "    max_score = max(*args)\n",
    "    return min_score , max_score\n",
    "def get_average(**kwargs):\n",
    "    average_score = sum(kwargs.values())/len(kwargs.values())\n",
    "    return average_score\n",
    "\n",
    "\n",
    "min_score, max_score = get_min_max_score(korean, english, mathematics, science)\n",
    "average_score = get_average(korean=korean, english=english, mathematics=mathematics, science=science)\n",
    "print('낮은 점수: {0:.2f}, 높은 점수: {1:.2f}, 평균 점수: {2:.2f}'.format(min_score, max_score, average_score))\n",
    " \n",
    "\n",
    "min_score, max_score = get_min_max_score(english, science)\n",
    "average_score = get_average(english=english, science=science)\n",
    "print('낮은 점수: {0:.2f}, 높은 점수: {1:.2f}, 평균 점수: {2:.2f}'.format(min_score, max_score, average_score))"
   ]
  },
  {
   "cell_type": "markdown",
   "metadata": {},
   "source": [
    "### 31 심사문제\n",
    "<pre>\n",
    "표준 입력으로 정수 한 개가 입력됩니다(입력 값의 범위는 10~30). \n",
    "다음 소스 코드를 완성하여 입력된 정수에 해당하는 피보나치 수가 출력되게 만드세요.\n",
    "\n",
    "피보나치 수는 0과 1로 시작하며, 다음 번 피보나치 수는 바로 앞의 두 피보나치 수의 합입니다.\n",
    "\n",
    "n\n",
    "\n",
    "0, 1, 2, 3, 4, 5, 6, 7, 8, 9, 10, 11, 12, 13, 14, 15, 16, 17, 18, 19, 20, 21...\n",
    "\n",
    "결과\n",
    "\n",
    "0, 1, 1, 2, 3, 5, 8, 13, 21, 34, 55, 89, 144, 233, 377, 610, 987, 1597, 2584, 4181, 6765, 10946...\n",
    "\n",
    "judge_fibonacci_number.py\n",
    "________________\n",
    "________________\n",
    "________________\n",
    "________________\n",
    "________________\n",
    "\n",
    "n = int(input())\n",
    "print(fib(n))\n",
    "\n",
    "\n",
    "입력\n",
    "10\n",
    "\n",
    "결과\n",
    "55\n",
    "\n",
    "입력\n",
    "20\n",
    "\n",
    "결과\n",
    "6765\n",
    "</pre>"
   ]
  },
  {
   "cell_type": "code",
   "execution_count": 3,
   "metadata": {},
   "outputs": [
    {
     "name": "stdout",
     "output_type": "stream",
     "text": [
      "6765\n"
     ]
    }
   ],
   "source": [
    "def fib(n):\n",
    "    if n==1 or n==0 :\n",
    "        return n\n",
    "    return fib(n-1)+fib(n-2)\n",
    "\n",
    "n = int(input())\n",
    "print(fib(n))"
   ]
  },
  {
   "cell_type": "markdown",
   "metadata": {},
   "source": [
    "### 32 심사문제\n",
    "<pre>\n",
    "표준 입력으로 숫자.확장자 형식으로 된 파일 이름 여러 개가 입력됩니다. \n",
    "다음 소스 코드를 완성하여 파일 이름이 숫자 3개이면서 \n",
    "앞에 0이 들어가는 형식으로 출력되게 만드세요. \n",
    "예를 들어 1.png는 001.png, 99.docx는 099.docx, 100.xlsx는 100.xlsx처럼 출력되어야 합니다. \n",
    "그리고 람다 표현식을 사용해야 하며 출력 결과는 리스트 형태라야 합니다. \n",
    "람다 표현식에서 파일명을 처리할 때는 문자열 포매팅과 문자열 메서드를 활용하세요.\n",
    "\n",
    "judge_lambda.py\n",
    "files = input().split()\n",
    " \n",
    "print(________________)\n",
    "\n",
    "\n",
    "입력\n",
    "1.jpg 10.png 11.png 2.jpg 3.png\n",
    "\n",
    "결과\n",
    "['001.jpg', '010.png', '011.png', '002.jpg', '003.png']\n",
    "\n",
    "입력\n",
    "97.xlsx 98.docx 99.docx 100.xlsx 101.docx 102.docx\n",
    "\n",
    "결과\n",
    "['097.xlsx', '098.docx', '099.docx', '100.xlsx', '101.docx', '102.docx']\n",
    "</pre>"
   ]
  },
  {
   "cell_type": "code",
   "execution_count": 75,
   "metadata": {},
   "outputs": [
    {
     "ename": "SyntaxError",
     "evalue": "invalid syntax (Temp/ipykernel_5888/3493490592.py, line 2)",
     "output_type": "error",
     "traceback": [
      "\u001b[1;36m  File \u001b[1;32m\"C:\\Users\\kos\\AppData\\Local\\Temp/ipykernel_5888/3493490592.py\"\u001b[1;36m, line \u001b[1;32m2\u001b[0m\n\u001b[1;33m    list(map(lambda files: '{0:03d}.{1}'.format(int(files.split('.')[0]){'0:03d'}. files.split('.')[1]{'1'})))  #format 방식\u001b[0m\n\u001b[1;37m                                                                        ^\u001b[0m\n\u001b[1;31mSyntaxError\u001b[0m\u001b[1;31m:\u001b[0m invalid syntax\n"
     ]
    }
   ],
   "source": [
    "files = input().split()\n",
    "list(map(lambda files: '{0:03d}.{1}'.format(int(files.split('.')[0]){'0:03d'}, files.split('.')[1]{'1'})))  #못풀었습니다......"
   ]
  },
  {
   "cell_type": "code",
   "execution_count": null,
   "metadata": {},
   "outputs": [],
   "source": []
  }
 ],
 "metadata": {
  "interpreter": {
   "hash": "9528276d7147921ccf3eb8613d5de8fb77d072562e0af527ab4e2e91c3f6962f"
  },
  "kernelspec": {
   "display_name": "Python 3.9.7 ('base')",
   "language": "python",
   "name": "python3"
  },
  "language_info": {
   "codemirror_mode": {
    "name": "ipython",
    "version": 3
   },
   "file_extension": ".py",
   "mimetype": "text/x-python",
   "name": "python",
   "nbconvert_exporter": "python",
   "pygments_lexer": "ipython3",
   "version": "3.9.7"
  },
  "orig_nbformat": 4
 },
 "nbformat": 4,
 "nbformat_minor": 2
}
