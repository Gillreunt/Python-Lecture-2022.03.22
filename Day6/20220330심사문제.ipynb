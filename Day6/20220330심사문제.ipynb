{
 "cells": [
  {
   "cell_type": "markdown",
   "metadata": {},
   "source": [
    "### 심사문제 27\n",
    "<pre>\n",
    "문자열이 저장된 words.txt 파일이 주어집니다\n",
    "(문자열은 한 줄로 저장되어 있습니다). \n",
    "words.txt 파일에서 문자 c가 포함된 단어를 각 줄에 출력하는 프로그램을 만드세요.\n",
    "단어를 출력할 때는 등장한 순서대로 출력해야 하며 \n",
    ",(콤마)와 .(점)은 출력하지 않아야 합니다.\n",
    "\n",
    "judge_file.py\n",
    "________________\n",
    "________________\n",
    "________________\n",
    "________________\n",
    "________________\n",
    "\n",
    "\n",
    "words.txt\n",
    "\n",
    "Fortunately, however, for the reputation of Asteroid B-612, \n",
    "a Turkish dictator made a law that his subjects, \n",
    "under pain of death, should change to European costume. \n",
    "So in 1920 the astronomer gave his demonstration all over again, \n",
    "dressed with impressive style and elegance. \n",
    "And this time everybody accepted his report.\n",
    "\n",
    "표준 출력\n",
    "dictator\n",
    "subjects\n",
    "change\n",
    "costume\n",
    "elegance\n",
    "accepted\n",
    "</pre>"
   ]
  },
  {
   "cell_type": "code",
   "execution_count": 2,
   "metadata": {},
   "outputs": [],
   "source": [
    "data_file='word.txt'\n",
    "file = open(data_file,'w')\n",
    "file.write('Fortunately, however, for the reputation of Asteroid B-612, a Turkish dictator made a law that his subjects, under pain of death, should change to European costume. So in 1920 the astronomer gave his demonstration all over again, dressed with impressive style and elegance. And this time everybody accepted his report.')\n",
    "file.close()"
   ]
  },
  {
   "cell_type": "code",
   "execution_count": 153,
   "metadata": {},
   "outputs": [
    {
     "name": "stdout",
     "output_type": "stream",
     "text": [
      "dictator\n",
      "subjects\n",
      "change\n",
      "costume\n",
      "elegance\n",
      "accepted\n"
     ]
    }
   ],
   "source": [
    "with open('word.txt','r') as file:\n",
    "    text = file.read().split()\n",
    "    for text1 in text:\n",
    "        if 'c' in list(text1):\n",
    "            text2 = text1.strip(',.').lower()\n",
    "            print(text2)"
   ]
  },
  {
   "cell_type": "code",
   "execution_count": 5,
   "metadata": {},
   "outputs": [
    {
     "name": "stdout",
     "output_type": "stream",
     "text": [
      "dictator\n",
      "subjects\n",
      "change\n",
      "costume\n",
      "elegance\n",
      "accepted\n"
     ]
    }
   ],
   "source": [
    "with open('word.txt','r') as file:\n",
    "    text = file.read().split()\n",
    "    for text1 in text:\n",
    "        text1 = text1.strip(',.').lower()\n",
    "        if 'c' in list(text1):\n",
    "            print(text1)"
   ]
  },
  {
   "cell_type": "code",
   "execution_count": 4,
   "metadata": {},
   "outputs": [
    {
     "name": "stdout",
     "output_type": "stream",
     "text": [
      "dictator\n",
      "subjects\n",
      "change\n",
      "costume\n",
      "elegance\n",
      "accepted\n"
     ]
    }
   ],
   "source": [
    "with open('word.txt') as file:\n",
    "    words = file.read()\n",
    "for word in words.split():\n",
    "    word = word.strip(',.')\n",
    "    if 'c' in word:\n",
    "        print(word)"
   ]
  },
  {
   "cell_type": "markdown",
   "metadata": {},
   "source": [
    "### 29 심사문제\n",
    "<pre>\n",
    "표준 입력으로 숫자 두 개가 입력됩니다. 다음 소스 코드를 완성하여 \n",
    "두 숫자의 덧셈, 뺄셈, 곱셈, 나눗셈의 결과가 출력되게 만드세요. \n",
    "이때 나눗셈의 결과는 실수라야 합니다.\n",
    "\n",
    "judge_function.py\n",
    "x, y = map(int, input().split())\n",
    "\n",
    "________________\n",
    "________________\n",
    "\n",
    "a, s, m, d = calc(x, y)\n",
    "\n",
    "print('덧셈: {0}, 뺄셈: {1}, 곱셈: {2}, 나눗셈: {3}'.format(a, s, m, d))\n",
    "\n",
    "\n",
    "입력\n",
    "10 20\n",
    "\n",
    "결과\n",
    "덧셈: 30, 뺄셈: -10, 곱셈: 200, 나눗셈: 0.5\n",
    "\n",
    "입력\n",
    "40 8\n",
    "\n",
    "결과\n",
    "덧셈: 48, 뺄셈: 32, 곱셈: 320, 나눗셈: 5.0\n",
    "</pre>"
   ]
  },
  {
   "cell_type": "code",
   "execution_count": 155,
   "metadata": {},
   "outputs": [
    {
     "name": "stdout",
     "output_type": "stream",
     "text": [
      "덧셈: 48, 뺄셈: 32, 곱셈: 320, 나눗셈: 5.0\n"
     ]
    }
   ],
   "source": [
    "x, y = map(int, input().split())\n",
    "def calc(x,y):\n",
    "    a= x+y\n",
    "    s= x-y\n",
    "    m= x*y\n",
    "    d= x/y\n",
    "    return a,s,m,d\n",
    "\n",
    "\n",
    "\n",
    "a, s, m, d = calc(x, y)\n",
    "print('덧셈: {0}, 뺄셈: {1}, 곱셈: {2}, 나눗셈: {3}'.format(a, s, m, d))"
   ]
  },
  {
   "cell_type": "markdown",
   "metadata": {},
   "source": [
    "### 30 심사문제\n",
    "<pre>\n",
    "표준 입력으로 국어, 영어, 수학, 과학 점수가 입력됩니다. \n",
    "다음 소스 코드를 완성하여 가장 높은 점수, 가장 낮은 점수, 평균 점수가 출력되게 만드세요. \n",
    "평균 점수는 실수로 출력되어야 합니다.\n",
    "\n",
    "judge_function_argument.py\n",
    "korean, english, mathematics, science = map(int, input().split())\n",
    "\n",
    "________________\n",
    "________________\n",
    "________________\n",
    "________________\n",
    "\n",
    "min_score, max_score = get_min_max_score(korean, english, mathematics, science)\n",
    "average_score = get_average(korean=korean, english=english,\n",
    "                            mathematics=mathematics, science=science)\n",
    "print('낮은 점수: {0:.2f}, 높은 점수: {1:.2f}, 평균 점수: {2:.2f}'\n",
    "      .format(min_score, max_score, average_score))\n",
    " \n",
    "min_score, max_score = get_min_max_score(english, science)\n",
    "average_score = get_average(english=english, science=science)\n",
    "print('낮은 점수: {0:.2f}, 높은 점수: {1:.2f}, 평균 점수: {2:.2f}'\n",
    "      .format(min_score, max_score, average_score))\n",
    "예\n",
    "입력\n",
    "76 82 89 84\n",
    "\n",
    "결과\n",
    "낮은 점수: 76.00, 높은 점수: 89.00, 평균 점수: 82.75\n",
    "낮은 점수: 82.00, 높은 점수: 84.00, 평균 점수: 83.00\n",
    "\n",
    "입력\n",
    "89 92 73 83\n",
    "\n",
    "결과\n",
    "낮은 점수: 73.00, 높은 점수: 92.00, 평균 점수: 84.25\n",
    "낮은 점수: 83.00, 높은 점수: 92.00, 평균 점수: 87.50\n",
    "</pre>"
   ]
  },
  {
   "cell_type": "code",
   "execution_count": 165,
   "metadata": {},
   "outputs": [
    {
     "name": "stdout",
     "output_type": "stream",
     "text": [
      "낮은 점수: 76.00, 높은 점수: 89.00, 평균 점수: 82.75\n",
      "낮은 점수: 82.00, 높은 점수: 84.00, 평균 점수: 83.00\n"
     ]
    }
   ],
   "source": [
    "korean, english, mathematics, science = map(int, input().split())\n",
    "\n",
    "def get_min_max_score(*args):\n",
    "    min_score = min(*args)\n",
    "    max_score = max(*args)\n",
    "    return min_score , max_score\n",
    "def get_average(**kwargs):\n",
    "    average_score = sum(kwargs.values())/len(kwargs.values())\n",
    "    return average_score\n",
    "\n",
    "\n",
    "min_score, max_score = get_min_max_score(korean, english, mathematics, science)\n",
    "average_score = get_average(korean=korean, english=english, mathematics=mathematics, science=science)\n",
    "print('낮은 점수: {0:.2f}, 높은 점수: {1:.2f}, 평균 점수: {2:.2f}'.format(min_score, max_score, average_score))\n",
    "## print('낮은 점수: f'{min_score:.2f}, 높은 점수: {max_score:.2f}, 평균 점수: {average_score:.2f}')\n",
    "\n",
    "\n",
    "min_score, max_score = get_min_max_score(english, science)\n",
    "average_score = get_average(english=english, science=science)\n",
    "print('낮은 점수: {0:.2f}, 높은 점수: {1:.2f}, 평균 점수: {2:.2f}'.format(min_score, max_score, average_score))"
   ]
  },
  {
   "cell_type": "markdown",
   "metadata": {},
   "source": [
    "### 31 심사문제\n",
    "<pre>\n",
    "표준 입력으로 정수 한 개가 입력됩니다(입력 값의 범위는 10~30). \n",
    "다음 소스 코드를 완성하여 입력된 정수에 해당하는 피보나치 수가 출력되게 만드세요.\n",
    "\n",
    "피보나치 수는 0과 1로 시작하며, 다음 번 피보나치 수는 바로 앞의 두 피보나치 수의 합입니다.\n",
    "\n",
    "n\n",
    "\n",
    "0, 1, 2, 3, 4, 5, 6, 7, 8, 9, 10, 11, 12, 13, 14, 15, 16, 17, 18, 19, 20, 21...\n",
    "\n",
    "결과\n",
    "\n",
    "0, 1, 1, 2, 3, 5, 8, 13, 21, 34, 55, 89, 144, 233, 377, 610, 987, 1597, 2584, 4181, 6765, 10946...\n",
    "\n",
    "judge_fibonacci_number.py\n",
    "________________\n",
    "________________\n",
    "________________\n",
    "________________\n",
    "________________\n",
    "\n",
    "n = int(input())\n",
    "print(fib(n))\n",
    "\n",
    "\n",
    "입력\n",
    "10\n",
    "\n",
    "결과\n",
    "55\n",
    "\n",
    "입력\n",
    "20\n",
    "\n",
    "결과\n",
    "6765\n",
    "</pre>"
   ]
  },
  {
   "cell_type": "code",
   "execution_count": 3,
   "metadata": {},
   "outputs": [
    {
     "name": "stdout",
     "output_type": "stream",
     "text": [
      "6765\n"
     ]
    }
   ],
   "source": [
    "def fib(n):\n",
    "    if n==1 or n==0 :\n",
    "        return n\n",
    "    return fib(n-1)+fib(n-2)\n",
    "\n",
    "n = int(input())\n",
    "print(fib(n))"
   ]
  },
  {
   "cell_type": "markdown",
   "metadata": {},
   "source": [
    "### 32 심사문제\n",
    "<pre>\n",
    "표준 입력으로 숫자.확장자 형식으로 된 파일 이름 여러 개가 입력됩니다. \n",
    "다음 소스 코드를 완성하여 파일 이름이 숫자 3개이면서 \n",
    "앞에 0이 들어가는 형식으로 출력되게 만드세요. \n",
    "예를 들어 1.png는 001.png, 99.docx는 099.docx, 100.xlsx는 100.xlsx처럼 출력되어야 합니다. \n",
    "그리고 람다 표현식을 사용해야 하며 출력 결과는 리스트 형태라야 합니다. \n",
    "람다 표현식에서 파일명을 처리할 때는 문자열 포매팅과 문자열 메서드를 활용하세요.\n",
    "\n",
    "judge_lambda.py\n",
    "files = input().split()\n",
    " \n",
    "print(________________)\n",
    "\n",
    "\n",
    "입력\n",
    "1.jpg 10.png 11.png 2.jpg 3.png\n",
    "\n",
    "결과\n",
    "['001.jpg', '010.png', '011.png', '002.jpg', '003.png']\n",
    "\n",
    "입력\n",
    "97.xlsx 98.docx 99.docx 100.xlsx 101.docx 102.docx\n",
    "\n",
    "결과\n",
    "['097.xlsx', '098.docx', '099.docx', '100.xlsx', '101.docx', '102.docx']\n",
    "</pre>"
   ]
  },
  {
   "cell_type": "code",
   "execution_count": 75,
   "metadata": {},
   "outputs": [
    {
     "ename": "SyntaxError",
     "evalue": "invalid syntax (Temp/ipykernel_5888/3493490592.py, line 2)",
     "output_type": "error",
     "traceback": [
      "\u001b[1;36m  File \u001b[1;32m\"C:\\Users\\kos\\AppData\\Local\\Temp/ipykernel_5888/3493490592.py\"\u001b[1;36m, line \u001b[1;32m2\u001b[0m\n\u001b[1;33m    list(map(lambda files: '{0:03d}.{1}'.format(int(files.split('.')[0]){'0:03d'}. files.split('.')[1]{'1'})))  #format 방식\u001b[0m\n\u001b[1;37m                                                                        ^\u001b[0m\n\u001b[1;31mSyntaxError\u001b[0m\u001b[1;31m:\u001b[0m invalid syntax\n"
     ]
    }
   ],
   "source": [
    "files = input().split()\n",
    "list(map(lambda files: '{0:03d}.{1}'.format(int(files.split('.')[0]){'0:03d'}, files.split('.')[1]{'1'})))  #못풀었습니다......"
   ]
  },
  {
   "cell_type": "code",
   "execution_count": 9,
   "metadata": {},
   "outputs": [
    {
     "name": "stdout",
     "output_type": "stream",
     "text": [
      "['001.jpg', '010.png', '011.png', '002.jpg', '003.png']\n"
     ]
    }
   ],
   "source": [
    "files = input().split()\n",
    "\n",
    "print(list(map(lambda x : f\"{int(x.split('.')[0]):03d}.{x.split('.')[1]}\", files)))"
   ]
  },
  {
   "cell_type": "code",
   "execution_count": 17,
   "metadata": {},
   "outputs": [
    {
     "data": {
      "text/plain": [
       "'001.jpg'"
      ]
     },
     "execution_count": 17,
     "metadata": {},
     "output_type": "execute_result"
    }
   ],
   "source": [
    "files = ['1.jpg 10.png 11.png 92.jpg 103.png']\n",
    "filename = '1.jpg'\n",
    "num=int(filename.split('.')[0])\n",
    "ext= filename.split('.')[1]\n",
    "f'{num:03d}.{ext}'\n",
    "    "
   ]
  },
  {
   "cell_type": "code",
   "execution_count": 14,
   "metadata": {},
   "outputs": [],
   "source": [
    "def chang_fname(s):\n",
    "    num = int(s.split('.')[0])\n",
    "    ext = s.split('.')[1]\n",
    "    return f'{num:03d}.{ext}'"
   ]
  },
  {
   "cell_type": "code",
   "execution_count": 15,
   "metadata": {},
   "outputs": [
    {
     "data": {
      "text/plain": [
       "'090.docs'"
      ]
     },
     "execution_count": 15,
     "metadata": {},
     "output_type": "execute_result"
    }
   ],
   "source": [
    "chang_fname('90.docs')"
   ]
  },
  {
   "cell_type": "code",
   "execution_count": 16,
   "metadata": {},
   "outputs": [
    {
     "data": {
      "text/plain": [
       "['001.jpg 10']"
      ]
     },
     "execution_count": 16,
     "metadata": {},
     "output_type": "execute_result"
    }
   ],
   "source": [
    "list(map(chang_fname, files))"
   ]
  },
  {
   "cell_type": "markdown",
   "metadata": {},
   "source": [
    "### 연습문제\n",
    "<pre>\n",
    "다음 리스트에서 제조사(manufacturer)와 모델명(model)을 분리해서 별도의 리스트를 각각 만드시오\n",
    "</pre>"
   ]
  },
  {
   "cell_type": "code",
   "execution_count": 29,
   "metadata": {},
   "outputs": [
    {
     "ename": "SyntaxError",
     "evalue": "f-string: invalid syntax (Temp/ipykernel_15892/2877385894.py, line 5)",
     "output_type": "error",
     "traceback": [
      "\u001b[1;36m  File \u001b[1;32m\"C:\\Users\\kos\\AppData\\Local\\Temp/ipykernel_15892/2877385894.py\"\u001b[1;36m, line \u001b[1;32m5\u001b[0m\n\u001b[1;33m    f\"{'제조사 : ' man }{' 모델 : ' model'}\"\u001b[0m\n\u001b[1;37m                    ^\u001b[0m\n\u001b[1;31mSyntaxError\u001b[0m\u001b[1;31m:\u001b[0m f-string: invalid syntax\n"
     ]
    }
   ],
   "source": [
    "cars = ['buick skylark 320','plymouth satellite','amc rebel sst','ford torino']\n",
    "car_list = 'buick skylark 320'\n",
    "man = car_list.split(' ')[0]\n",
    "model = car_list.split(' ')[1:3]\n",
    "f\"{'제조사 : ' man }{' 모델 : ' model'}\"\n"
   ]
  },
  {
   "cell_type": "code",
   "execution_count": 30,
   "metadata": {},
   "outputs": [],
   "source": [
    "cars = ['buick skylark 320','plymouth satellite','amc rebel sst','ford torino']\n",
    "manufacturer = list(map(lambda s : s.split()[0], cars))\n"
   ]
  },
  {
   "cell_type": "code",
   "execution_count": 32,
   "metadata": {},
   "outputs": [
    {
     "data": {
      "text/plain": [
       "'skylark 320'"
      ]
     },
     "execution_count": 32,
     "metadata": {},
     "output_type": "execute_result"
    }
   ],
   "source": [
    "car = 'buick skylark 320'\n",
    "m = car.split()[1:]\n",
    "' '.join(m)"
   ]
  },
  {
   "cell_type": "code",
   "execution_count": 33,
   "metadata": {},
   "outputs": [
    {
     "data": {
      "text/plain": [
       "['skylark 320', 'satellite', 'rebel sst', 'torino']"
      ]
     },
     "execution_count": 33,
     "metadata": {},
     "output_type": "execute_result"
    }
   ],
   "source": [
    "model = list(map(lambda s : ' '.join(s.split()[1:]), cars))\n",
    "model"
   ]
  },
  {
   "cell_type": "code",
   "execution_count": 35,
   "metadata": {},
   "outputs": [
    {
     "data": {
      "text/html": [
       "<div>\n",
       "<style scoped>\n",
       "    .dataframe tbody tr th:only-of-type {\n",
       "        vertical-align: middle;\n",
       "    }\n",
       "\n",
       "    .dataframe tbody tr th {\n",
       "        vertical-align: top;\n",
       "    }\n",
       "\n",
       "    .dataframe thead th {\n",
       "        text-align: right;\n",
       "    }\n",
       "</style>\n",
       "<table border=\"1\" class=\"dataframe\">\n",
       "  <thead>\n",
       "    <tr style=\"text-align: right;\">\n",
       "      <th></th>\n",
       "      <th>mpg</th>\n",
       "      <th>cylinders</th>\n",
       "      <th>displacement</th>\n",
       "      <th>horsepower</th>\n",
       "      <th>weight</th>\n",
       "      <th>acceleration</th>\n",
       "      <th>model_year</th>\n",
       "      <th>origin</th>\n",
       "      <th>name</th>\n",
       "    </tr>\n",
       "  </thead>\n",
       "  <tbody>\n",
       "    <tr>\n",
       "      <th>0</th>\n",
       "      <td>18.0</td>\n",
       "      <td>8</td>\n",
       "      <td>307.0</td>\n",
       "      <td>130.0</td>\n",
       "      <td>3504</td>\n",
       "      <td>12.0</td>\n",
       "      <td>70</td>\n",
       "      <td>usa</td>\n",
       "      <td>chevrolet chevelle malibu</td>\n",
       "    </tr>\n",
       "    <tr>\n",
       "      <th>1</th>\n",
       "      <td>15.0</td>\n",
       "      <td>8</td>\n",
       "      <td>350.0</td>\n",
       "      <td>165.0</td>\n",
       "      <td>3693</td>\n",
       "      <td>11.5</td>\n",
       "      <td>70</td>\n",
       "      <td>usa</td>\n",
       "      <td>buick skylark 320</td>\n",
       "    </tr>\n",
       "    <tr>\n",
       "      <th>2</th>\n",
       "      <td>18.0</td>\n",
       "      <td>8</td>\n",
       "      <td>318.0</td>\n",
       "      <td>150.0</td>\n",
       "      <td>3436</td>\n",
       "      <td>11.0</td>\n",
       "      <td>70</td>\n",
       "      <td>usa</td>\n",
       "      <td>plymouth satellite</td>\n",
       "    </tr>\n",
       "    <tr>\n",
       "      <th>3</th>\n",
       "      <td>16.0</td>\n",
       "      <td>8</td>\n",
       "      <td>304.0</td>\n",
       "      <td>150.0</td>\n",
       "      <td>3433</td>\n",
       "      <td>12.0</td>\n",
       "      <td>70</td>\n",
       "      <td>usa</td>\n",
       "      <td>amc rebel sst</td>\n",
       "    </tr>\n",
       "    <tr>\n",
       "      <th>4</th>\n",
       "      <td>17.0</td>\n",
       "      <td>8</td>\n",
       "      <td>302.0</td>\n",
       "      <td>140.0</td>\n",
       "      <td>3449</td>\n",
       "      <td>10.5</td>\n",
       "      <td>70</td>\n",
       "      <td>usa</td>\n",
       "      <td>ford torino</td>\n",
       "    </tr>\n",
       "  </tbody>\n",
       "</table>\n",
       "</div>"
      ],
      "text/plain": [
       "    mpg  cylinders  displacement  horsepower  weight  acceleration  \\\n",
       "0  18.0          8         307.0       130.0    3504          12.0   \n",
       "1  15.0          8         350.0       165.0    3693          11.5   \n",
       "2  18.0          8         318.0       150.0    3436          11.0   \n",
       "3  16.0          8         304.0       150.0    3433          12.0   \n",
       "4  17.0          8         302.0       140.0    3449          10.5   \n",
       "\n",
       "   model_year origin                       name  \n",
       "0          70    usa  chevrolet chevelle malibu  \n",
       "1          70    usa          buick skylark 320  \n",
       "2          70    usa         plymouth satellite  \n",
       "3          70    usa              amc rebel sst  \n",
       "4          70    usa                ford torino  "
      ]
     },
     "execution_count": 35,
     "metadata": {},
     "output_type": "execute_result"
    }
   ],
   "source": [
    "import seaborn as sns\n",
    "mpg = sns.load_dataset('mpg')\n",
    "mpg.head()"
   ]
  },
  {
   "cell_type": "code",
   "execution_count": null,
   "metadata": {},
   "outputs": [],
   "source": []
  }
 ],
 "metadata": {
  "interpreter": {
   "hash": "9528276d7147921ccf3eb8613d5de8fb77d072562e0af527ab4e2e91c3f6962f"
  },
  "kernelspec": {
   "display_name": "Python 3.9.7 ('base')",
   "language": "python",
   "name": "python3"
  },
  "language_info": {
   "codemirror_mode": {
    "name": "ipython",
    "version": 3
   },
   "file_extension": ".py",
   "mimetype": "text/x-python",
   "name": "python",
   "nbconvert_exporter": "python",
   "pygments_lexer": "ipython3",
   "version": "3.9.7"
  },
  "orig_nbformat": 4
 },
 "nbformat": 4,
 "nbformat_minor": 2
}
