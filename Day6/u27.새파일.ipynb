{
 "cells": [
  {
   "cell_type": "markdown",
   "metadata": {},
   "source": [
    "# Unit 27 파일(File)"
   ]
  },
  {
   "cell_type": "markdown",
   "metadata": {},
   "source": [
    "### 27.1 파일 읽기 / 쓰기 (real / write)"
   ]
  },
  {
   "cell_type": "code",
   "execution_count": 2,
   "metadata": {},
   "outputs": [],
   "source": [
    "file = open('hello.txt','w')\n",
    "file.write('Hello, World! 안녕하세요')\n",
    "file.close()"
   ]
  },
  {
   "cell_type": "code",
   "execution_count": 4,
   "metadata": {},
   "outputs": [
    {
     "name": "stderr",
     "output_type": "stream",
     "text": [
      "'cat'��(��) ���� �Ǵ� �ܺ� ����, ������ �� �ִ� ���α׷�, �Ǵ�\n",
      "��ġ ������ �ƴմϴ�.\n"
     ]
    }
   ],
   "source": [
    "!cat hello.txt"
   ]
  },
  {
   "cell_type": "code",
   "execution_count": 5,
   "metadata": {},
   "outputs": [
    {
     "name": "stdout",
     "output_type": "stream",
     "text": [
      "Hello, World! 안녕하세요\n"
     ]
    }
   ],
   "source": [
    "!type hello.txt"
   ]
  },
  {
   "cell_type": "code",
   "execution_count": 9,
   "metadata": {},
   "outputs": [],
   "source": [
    "file = open('hello.txt','w')\n",
    "file.write('Hello, World! \\n')\n",
    "file.write('안녕하세요')\n",
    "file.close()"
   ]
  },
  {
   "cell_type": "code",
   "execution_count": 12,
   "metadata": {},
   "outputs": [
    {
     "name": "stderr",
     "output_type": "stream",
     "text": [
      "'cat'��(��) ���� �Ǵ� �ܺ� ����, ������ �� �ִ� ���α׷�, �Ǵ�\n",
      "��ġ ������ �ƴմϴ�.\n"
     ]
    }
   ],
   "source": [
    "!cat hello.txt"
   ]
  },
  {
   "cell_type": "code",
   "execution_count": 10,
   "metadata": {},
   "outputs": [
    {
     "name": "stdout",
     "output_type": "stream",
     "text": [
      "Hello, World! \n",
      "안녕하세요\n"
     ]
    }
   ],
   "source": [
    "!type hello.txt"
   ]
  },
  {
   "cell_type": "markdown",
   "metadata": {},
   "source": [
    "- 파일로부터 텍스트 읽기"
   ]
  },
  {
   "cell_type": "code",
   "execution_count": 13,
   "metadata": {},
   "outputs": [
    {
     "name": "stdout",
     "output_type": "stream",
     "text": [
      "Hello, World! \n",
      "안녕하세요\n"
     ]
    }
   ],
   "source": [
    "file = open('hello.txt', 'r')   # hello.txt 파일을 (r)읽기모드로 오픈\n",
    "text = file.read()              # 크기정보를 안주면 처음부터 끝까지 읽음\n",
    "print(text) \n",
    "file.close()"
   ]
  },
  {
   "cell_type": "code",
   "execution_count": 14,
   "metadata": {},
   "outputs": [
    {
     "name": "stdout",
     "output_type": "stream",
     "text": [
      "Hello, World! \n",
      "\n"
     ]
    }
   ],
   "source": [
    "file = open('hello.txt', 'r')   # 모드 정보의 default 값은 'r' (read)\n",
    "text = file.read(15)            # 15글자를 읽음 \\n 도 한글자\n",
    "print(text) \n",
    "file.close()"
   ]
  },
  {
   "cell_type": "markdown",
   "metadata": {},
   "source": [
    "- 파이썬 스타일(with) : 자동 close"
   ]
  },
  {
   "cell_type": "code",
   "execution_count": 16,
   "metadata": {},
   "outputs": [
    {
     "name": "stdout",
     "output_type": "stream",
     "text": [
      "Hello, World! \n",
      "안녕하세요\n"
     ]
    }
   ],
   "source": [
    "with open('hello.txt') as file:\n",
    "    text = file.read()\n",
    "print(text)"
   ]
  },
  {
   "cell_type": "markdown",
   "metadata": {},
   "source": [
    "### 27.2 여러줄의 문자열"
   ]
  },
  {
   "cell_type": "code",
   "execution_count": 19,
   "metadata": {},
   "outputs": [],
   "source": [
    "with open('hello.txt', 'w') as file:\n",
    "    for i in range(3):\n",
    "        file.write(f'Hello, world! {i}\\n')"
   ]
  },
  {
   "cell_type": "code",
   "execution_count": 20,
   "metadata": {},
   "outputs": [
    {
     "name": "stdout",
     "output_type": "stream",
     "text": [
      "Hello, world! 0\n",
      "Hello, world! 1\n",
      "Hello, world! 2\n"
     ]
    }
   ],
   "source": [
    "!type hello.txt"
   ]
  },
  {
   "cell_type": "code",
   "execution_count": 48,
   "metadata": {},
   "outputs": [],
   "source": [
    "fruits = ['apple\\n','banana\\n','cherry\\n']\n",
    "with open('hello.txt','w') as file:\n",
    "    file.writelines(fruits)"
   ]
  },
  {
   "cell_type": "code",
   "execution_count": 49,
   "metadata": {},
   "outputs": [
    {
     "name": "stdout",
     "output_type": "stream",
     "text": [
      "apple\n",
      "banana\n",
      "cherry\n"
     ]
    }
   ],
   "source": [
    "!type hello.txt"
   ]
  },
  {
   "cell_type": "code",
   "execution_count": 25,
   "metadata": {},
   "outputs": [
    {
     "name": "stdout",
     "output_type": "stream",
     "text": [
      "apple\n",
      "banana\n",
      "cherry\n"
     ]
    }
   ],
   "source": [
    "with open('hello.txt')as file:\n",
    "    lines = file.readlines()\n",
    "for line in lines:\n",
    "    print(line,end='')"
   ]
  },
  {
   "cell_type": "code",
   "execution_count": 26,
   "metadata": {},
   "outputs": [],
   "source": [
    "# data 디렉토리가 있는지 확인, 없으면 만들어주기\n",
    "import os\n",
    "if not os.path.exists('data'):\n",
    "    os.mkdir('data')"
   ]
  },
  {
   "cell_type": "code",
   "execution_count": 27,
   "metadata": {},
   "outputs": [
    {
     "data": {
      "text/plain": [
       "True"
      ]
     },
     "execution_count": 27,
     "metadata": {},
     "output_type": "execute_result"
    }
   ],
   "source": [
    "os.path.exists('data')"
   ]
  },
  {
   "cell_type": "code",
   "execution_count": 32,
   "metadata": {},
   "outputs": [
    {
     "name": "stdout",
     "output_type": "stream",
     "text": [
      " F ����̺��� ����: �� ����\n",
      " ���� �Ϸ� ��ȣ: D2C4-7D0B\n",
      "\n",
      " f:\\git\\Python-Lecture-2022.03.22\\Day6 ���͸�\n",
      "\n",
      "2022-03-30  ���� 10:25    <DIR>          .\n",
      "2022-03-30  ���� 10:25    <DIR>          ..\n",
      "2022-03-30  ���� 10:25    <DIR>          data\n",
      "2022-03-30  ���� 10:08                23 hello.txt\n",
      "2022-03-30  ���� 09:28                 0 u27.������.ipynb\n",
      "               2�� ����                  23 ����Ʈ\n",
      "               3�� ���͸�  824,240,373,760 ����Ʈ ����\n"
     ]
    }
   ],
   "source": [
    "!dir"
   ]
  },
  {
   "cell_type": "code",
   "execution_count": 33,
   "metadata": {},
   "outputs": [
    {
     "data": {
      "text/plain": [
       "True"
      ]
     },
     "execution_count": 33,
     "metadata": {},
     "output_type": "execute_result"
    }
   ],
   "source": [
    "# 절대경로\n",
    "os.path.exists('F:\\git\\Python-Lecture-2022.03.22\\Day6\\data')"
   ]
  },
  {
   "cell_type": "code",
   "execution_count": 34,
   "metadata": {},
   "outputs": [],
   "source": [
    "data_file='data/hello.txt'\n",
    "file = open(data_file,'w')\n",
    "file.write('Hello,world!\\n')\n",
    "file.write('안녕하세요')\n",
    "file.close()"
   ]
  },
  {
   "cell_type": "code",
   "execution_count": 38,
   "metadata": {},
   "outputs": [
    {
     "name": "stderr",
     "output_type": "stream",
     "text": [
      "���� �̸�, ���͸� �̸� �Ǵ� ���� ���̺� ������ �߸��Ǿ����ϴ�.\n"
     ]
    }
   ],
   "source": [
    "!type 'F:\\git\\Python-Lecture-2022.03.22\\Day6\\data'"
   ]
  },
  {
   "cell_type": "code",
   "execution_count": 50,
   "metadata": {},
   "outputs": [],
   "source": [
    "with open('hello.txt','a')as file:\n",
    "    file.write('Hello, world!\\n')\n",
    "    file.write('안녕하세요')"
   ]
  },
  {
   "cell_type": "code",
   "execution_count": 41,
   "metadata": {},
   "outputs": [],
   "source": [
    "with open('hello.txt','w', encoding='euc-kr') as file:\n",
    "    file.write('이 글은 EUC-KR 로 인코딩 되었습니다.\\n')\n",
    "    file.write('utf-8f로 읽으면 글자가 깨집니다.')"
   ]
  },
  {
   "cell_type": "code",
   "execution_count": 51,
   "metadata": {},
   "outputs": [
    {
     "name": "stdout",
     "output_type": "stream",
     "text": [
      "apple\n",
      "banana\n",
      "cherry\n",
      "Hello, world!\n",
      "안녕하세요\n"
     ]
    }
   ],
   "source": [
    "with open('hello.txt') as file:\n",
    "    text = file.read()\n",
    "print(text)"
   ]
  },
  {
   "cell_type": "markdown",
   "metadata": {},
   "source": [
    "### 27.3 파이썬 객체 저장/로드"
   ]
  },
  {
   "cell_type": "code",
   "execution_count": 53,
   "metadata": {},
   "outputs": [],
   "source": [
    "import pickle\n",
    "\n",
    "person = {'name':'james','age':17,'address':'서울시 서초구 반포동'}\n",
    "\n",
    "with open('person.pkl', 'wb') as file:\n",
    "    pickle.dump(person, file)"
   ]
  },
  {
   "cell_type": "code",
   "execution_count": 54,
   "metadata": {},
   "outputs": [
    {
     "data": {
      "text/plain": [
       "{'name': 'james', 'age': 17, 'address': '서울시 서초구 반포동'}"
      ]
     },
     "execution_count": 54,
     "metadata": {},
     "output_type": "execute_result"
    }
   ],
   "source": [
    "with open('person.pkl','rb') as file:\n",
    "    james = pickle.load(file)\n",
    "james"
   ]
  },
  {
   "cell_type": "code",
   "execution_count": 55,
   "metadata": {},
   "outputs": [
    {
     "data": {
      "text/plain": [
       "{'name': 'james', 'age': 17, 'address': '서울시 서초구 반포동'}"
      ]
     },
     "execution_count": 55,
     "metadata": {},
     "output_type": "execute_result"
    }
   ],
   "source": [
    "# 파일 오픈이 필요없는 라이브러리도 있음\n",
    "import joblib\n",
    "joblib.dump(person,'person.jl')\n",
    "james = joblib.load('person.jl')\n",
    "james"
   ]
  },
  {
   "cell_type": "code",
   "execution_count": null,
   "metadata": {},
   "outputs": [],
   "source": []
  }
 ],
 "metadata": {
  "interpreter": {
   "hash": "9528276d7147921ccf3eb8613d5de8fb77d072562e0af527ab4e2e91c3f6962f"
  },
  "kernelspec": {
   "display_name": "Python 3.9.7 ('base')",
   "language": "python",
   "name": "python3"
  },
  "language_info": {
   "codemirror_mode": {
    "name": "ipython",
    "version": 3
   },
   "file_extension": ".py",
   "mimetype": "text/x-python",
   "name": "python",
   "nbconvert_exporter": "python",
   "pygments_lexer": "ipython3",
   "version": "3.9.7"
  },
  "orig_nbformat": 4
 },
 "nbformat": 4,
 "nbformat_minor": 2
}
