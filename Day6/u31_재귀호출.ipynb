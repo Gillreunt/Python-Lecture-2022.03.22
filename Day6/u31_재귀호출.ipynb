{
  "cells": [
    {
      "cell_type": "markdown",
      "metadata": {
        "id": "rF6LdyPSddTZ"
      },
      "source": [
        "# Unit 31. 재귀 호출(Recursive call)"
      ]
    },
    {
      "cell_type": "markdown",
      "metadata": {
        "id": "TXwSxF-ZeUdO"
      },
      "source": [
        "- factorial\n",
        "<pre>\n",
        "n * (n-1)!       n > 0,\n",
        "0                n = 0\n",
        "</pre>"
      ]
    },
    {
      "cell_type": "code",
      "execution_count": 1,
      "metadata": {
        "id": "tHzzlU8gdYvz"
      },
      "outputs": [],
      "source": [
        "def fact(n):\n",
        "    if n == 0:\n",
        "        return 1\n",
        "    return n * fact(n-1)"
      ]
    },
    {
      "cell_type": "code",
      "execution_count": 2,
      "metadata": {
        "colab": {
          "base_uri": "https://localhost:8080/"
        },
        "id": "jOJ4MgZ_eILY",
        "outputId": "eda9f1fe-3878-47cc-db49-7c91b46d5cdd"
      },
      "outputs": [
        {
          "data": {
            "text/plain": [
              "6"
            ]
          },
          "execution_count": 2,
          "metadata": {},
          "output_type": "execute_result"
        }
      ],
      "source": [
        "fact(3)"
      ]
    },
    {
      "cell_type": "code",
      "execution_count": 3,
      "metadata": {
        "colab": {
          "base_uri": "https://localhost:8080/"
        },
        "id": "XW21QM1DeMm1",
        "outputId": "39cee9f1-a90c-4ffb-c658-9a568640c08e"
      },
      "outputs": [
        {
          "data": {
            "text/plain": [
              "120"
            ]
          },
          "execution_count": 3,
          "metadata": {},
          "output_type": "execute_result"
        }
      ],
      "source": [
        "fact(5)"
      ]
    },
    {
      "cell_type": "markdown",
      "metadata": {
        "id": "ehwJg43BeYkK"
      },
      "source": [
        "- fibonacci 수열\n",
        "<pre>\n",
        "fibo(n) = fibo(n-1) + fibo(n-2),        n >= 2\n",
        "fibo(1), fibo(0) = 1                    n = 0, 1"
      ]
    },
    {
      "cell_type": "code",
      "execution_count": 2,
      "metadata": {
        "id": "t9sn2vkRePgJ"
      },
      "outputs": [],
      "source": [
        "def fibo(n):\n",
        "    if n == 1 or n == 0:\n",
        "        return 1\n",
        "    return fibo(n-1) + fibo(n-2)"
      ]
    },
    {
      "cell_type": "code",
      "execution_count": 5,
      "metadata": {
        "colab": {
          "base_uri": "https://localhost:8080/"
        },
        "id": "G02KxgnJfVwe",
        "outputId": "a4b896ee-39e5-4713-9ba7-03bbd5f7e84c"
      },
      "outputs": [
        {
          "name": "stdout",
          "output_type": "stream",
          "text": [
            " 0: 1\n",
            " 1: 1\n",
            " 2: 2\n",
            " 3: 3\n",
            " 4: 5\n",
            " 5: 8\n",
            " 6: 13\n",
            " 7: 21\n",
            " 8: 34\n",
            " 9: 55\n",
            "10: 89\n"
          ]
        }
      ],
      "source": [
        "for i in range(11):\n",
        "    print(f'{i:2d}: {fibo(i)}')"
      ]
    },
    {
      "cell_type": "code",
      "execution_count": null,
      "metadata": {
        "id": "WDUSOdmNfkgU"
      },
      "outputs": [],
      "source": []
    }
  ],
  "metadata": {
    "colab": {
      "name": "u31_재귀호출.ipynb",
      "provenance": []
    },
    "kernelspec": {
      "display_name": "Python 3",
      "name": "python3"
    },
    "language_info": {
      "codemirror_mode": {
        "name": "ipython",
        "version": 3
      },
      "file_extension": ".py",
      "mimetype": "text/x-python",
      "name": "python",
      "nbconvert_exporter": "python",
      "pygments_lexer": "ipython3",
      "version": "3.9.7"
    }
  },
  "nbformat": 4,
  "nbformat_minor": 0
}
