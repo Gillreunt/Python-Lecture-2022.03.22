{
 "cells": [
  {
   "cell_type": "markdown",
   "metadata": {},
   "source": [
    "표준 입력으로 게임 캐릭터 능력치(체력, 마나, AP)가 입력됩니다. 다음 소스 코드에서 애니(Annie) 클래스를 작성하여 티버(tibbers) 스킬의 피해량이 출력되게 만드세요. 티버의 피해량은 AP * 0.65 + 400이며 AP(Ability Power, 주문력)는 마법 능력치를 뜻합니다.\n",
    "\n",
    "judge_class.py\n",
    "________________\n",
    "________________\n",
    "________________\n",
    "________________\n",
    "________________\n",
    "________________\n",
    "________________\n",
    "\n",
    "health, mana, ability_power = map(float, input().split())\n",
    " \n",
    "x = Annie(health=health, mana=mana, ability_power=ability_power)\n",
    "x.tibbers()\n",
    "예\n",
    "\n",
    "입력\n",
    "511.68 334.0 298\n",
    "\n",
    "결과\n",
    "티버: 피해량 593.7\n",
    "\n",
    "입력\n",
    "1803.68 1184.0 645\n",
    "\n",
    "결과\n",
    "티버: 피해량 819.25"
   ]
  },
  {
   "cell_type": "code",
   "execution_count": 17,
   "metadata": {},
   "outputs": [
    {
     "name": "stdout",
     "output_type": "stream",
     "text": [
      "티버: 피해량 819.25\n"
     ]
    }
   ],
   "source": [
    "class Annie:\n",
    "    def __init__(self,health,mana,ability_power):\n",
    "        self.health = health\n",
    "        self.mana = mana\n",
    "        self.ability_power =ability_power\n",
    "    def tibbers(self):\n",
    "        print(f'티버: 피해량 {ability_power*0.65 + 400}')\n",
    "\n",
    "\n",
    "health, mana, ability_power = map(float, input().split())\n",
    " \n",
    "x = Annie(health=health, mana=mana, ability_power=ability_power)\n",
    "x.tibbers()"
   ]
  },
  {
   "cell_type": "code",
   "execution_count": null,
   "metadata": {},
   "outputs": [],
   "source": []
  },
  {
   "cell_type": "markdown",
   "metadata": {},
   "source": [
    "### 심사문제 34.6\n",
    "\n",
    "연습문제\n",
    "1. Calculator\n",
    "    add, sub , mul ,div 메소드 구현\n",
    "    단, 0으로 나누지 못하게 할것\n"
   ]
  },
  {
   "cell_type": "code",
   "execution_count": 46,
   "metadata": {},
   "outputs": [],
   "source": [
    "x = 10\n",
    "y = 2\n",
    "\n",
    "class Calculator:\n",
    "    def __init__(self,add,sub,mul,div):\n",
    "        self.add = add\n",
    "        self.sub = sub\n",
    "        self.mul = mul\n",
    "        self.div = div\n",
    "    def clac_add(self):\n",
    "        print(x+y)\n",
    "    def clac_sub(self):\n",
    "        print(x-y)\n",
    "    def clac_mul(self):\n",
    "        print(x*y)\n",
    "    def clac_div(self):\n",
    "        if y == 0:\n",
    "            print('0으로 나눌수 없습니다.')\n",
    "            return\n",
    "        print(x/y)\n",
    "\n",
    "\n"
   ]
  },
  {
   "cell_type": "code",
   "execution_count": 47,
   "metadata": {},
   "outputs": [
    {
     "name": "stdout",
     "output_type": "stream",
     "text": [
      "12\n",
      "8\n",
      "20\n",
      "5.0\n"
     ]
    }
   ],
   "source": [
    "Calculator.clac_add('') \n",
    "Calculator.clac_sub('')\n",
    "Calculator.clac_mul('')\n",
    "Calculator.clac_div('')"
   ]
  },
  {
   "cell_type": "markdown",
   "metadata": {},
   "source": []
  },
  {
   "cell_type": "markdown",
   "metadata": {},
   "source": [
    "<pre>\n",
    "2. Account 클래스 만들기\n",
    "    ano : 문자열 6글자 , '123456'\n",
    "    owner : 문자열\n",
    "    balance : 잔액, 비공개속성\n",
    "\n",
    "### Method\n",
    "생성자\n",
    "deposit(amount) 잔액이 1000만원 이상이면 입금할수 없음 10000000\n",
    "withdraw(amount) 잔액이 0원 미만이면 출금할 수 없음\n",
    "출력 가능하게 (__str__)\n",
    "</pre>"
   ]
  },
  {
   "cell_type": "code",
   "execution_count": 53,
   "metadata": {},
   "outputs": [],
   "source": [
    "class Account:\n",
    "    def __init__(self,ano,owner,balance):\n",
    "        self.ano = ano[:6]\n",
    "        self.owner = owner\n",
    "        self.__balance = balance\n",
    "    def deposit(self,aumont):\n",
    "        if self.__balance >= 10000000 :\n",
    "            print('잔액이 1000만원 이상이면 입금할수 없음')\n",
    "            return\n",
    "        self.__balance += aumont\n",
    "        print(f'계좌에 남은 돈은 {self.__balance}원 이며 입금액은 {aumont:d}원 입니다.')\n",
    "    def withdraw(self,aumont):\n",
    "        if self.__balance < 0 :\n",
    "            print('잔액이 부족하여 출금할수 없습니다.')\n",
    "            return\n",
    "        self.__balance -= aumont\n",
    "        print(f'계좌에 남은 돈은 {self.__balance}원 이며 출금액은 {aumont:d}원 입니다.')\n",
    "\n"
   ]
  },
  {
   "cell_type": "code",
   "execution_count": 55,
   "metadata": {},
   "outputs": [],
   "source": [
    "my_account=Account('123456','주인',9999999)"
   ]
  },
  {
   "cell_type": "code",
   "execution_count": 57,
   "metadata": {},
   "outputs": [
    {
     "name": "stdout",
     "output_type": "stream",
     "text": [
      "잔액이 1000만원 이상이면 입금할수 없음\n"
     ]
    }
   ],
   "source": [
    "my_account.deposit(10000)"
   ]
  },
  {
   "cell_type": "code",
   "execution_count": 60,
   "metadata": {},
   "outputs": [
    {
     "name": "stdout",
     "output_type": "stream",
     "text": [
      "잔액이 부족하여 출금할수 없습니다.\n"
     ]
    }
   ],
   "source": [
    "my_account.withdraw(10000000)"
   ]
  },
  {
   "cell_type": "code",
   "execution_count": null,
   "metadata": {},
   "outputs": [],
   "source": []
  }
 ],
 "metadata": {
  "interpreter": {
   "hash": "9528276d7147921ccf3eb8613d5de8fb77d072562e0af527ab4e2e91c3f6962f"
  },
  "kernelspec": {
   "display_name": "Python 3.9.7 ('base')",
   "language": "python",
   "name": "python3"
  },
  "language_info": {
   "codemirror_mode": {
    "name": "ipython",
    "version": 3
   },
   "file_extension": ".py",
   "mimetype": "text/x-python",
   "name": "python",
   "nbconvert_exporter": "python",
   "pygments_lexer": "ipython3",
   "version": "3.9.7"
  },
  "orig_nbformat": 4
 },
 "nbformat": 4,
 "nbformat_minor": 2
}
