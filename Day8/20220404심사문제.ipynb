{
 "cells": [
  {
   "cell_type": "markdown",
   "metadata": {},
   "source": [
    "### 38 심사문제\n",
    "<pre>\n",
    "표준 입력으로 문자열이 입력됩니다. \n",
    "다음 소스 코드를 완성하여 입력된 문자열이 회문이면 \n",
    "문자열을 그대로 출력하고, \n",
    "회문이 아니면 '회문이 아닙니다.'를 출력하도록 만드세요. \n",
    "palindrome 함수와 NotPalindromeError 예외를 작성해야 합니다.\n",
    "\n",
    "judge_try_except_raise.py\n",
    "________________\n",
    "________________\n",
    "________________\n",
    "________________\n",
    "________________\n",
    "________________\n",
    "________________\n",
    "\n",
    "try:\n",
    "    word = input()\n",
    "    palindrome(word)\n",
    "except NotPalindromeError as e:\n",
    "    print(e)\n",
    "\n",
    "예\n",
    "\n",
    "입력\n",
    "level\n",
    "\n",
    "결과\n",
    "level\n",
    "\n",
    "입력\n",
    "hello\n",
    "\n",
    "결과\n",
    "회문이 아닙니다.\n",
    "</pre>"
   ]
  },
  {
   "cell_type": "code",
   "execution_count": 50,
   "metadata": {},
   "outputs": [],
   "source": [
    "class NotPalindromeError(Exception):\n",
    "    def __init__(self):\n",
    "        super().__init__('회문이 아닙니다.')\n",
    "        \n",
    "def palindrome(word):\n",
    "    if word == word[::-1]:\n",
    "        print(word)\n",
    "    else:\n",
    "        raise NotPalindromeError\n"
   ]
  },
  {
   "cell_type": "code",
   "execution_count": 52,
   "metadata": {},
   "outputs": [
    {
     "name": "stdout",
     "output_type": "stream",
     "text": [
      "level\n"
     ]
    }
   ],
   "source": [
    "\n",
    "try:\n",
    "    word = input()\n",
    "    palindrome(word)\n",
    "except NotPalindromeError as e:\n",
    "    print(e)"
   ]
  },
  {
   "cell_type": "markdown",
   "metadata": {},
   "source": [
    "### 43 심사문제\n",
    "<pre>\n",
    "표준 입력으로 URL 문자열이 입력 입력됩니다. \n",
    "입력된 URL이 올바르면 True, \n",
    "잘못되었으면 False를 출력하는 프로그램을 만드세요.\n",
    "이 심사문제에서 판단해야 할 URL의 규칙은 다음과 같습니다.\n",
    "\n",
    "http:// 또는 https://로 시작\n",
    "도메인은 도메인.최상위도메인 형식이며 \n",
    "영문 대소문자, 숫자, -로 되어 있어야 함\n",
    "도메인 이하 경로는 /로 구분하고, \n",
    "영문 대소문자, 숫자, -, _, ., ?, =을 사용함\n",
    "\n",
    "judge_regular_expression.py\n",
    "________________________________\n",
    "________________________________\n",
    "________________________________\n",
    "\n",
    "\n",
    "입력\n",
    "http://www.example.com/hello/world.do?key=python\n",
    "\n",
    "결과\n",
    "True\n",
    "\n",
    "입력\n",
    "https://example/hello/world.html\n",
    "\n",
    "결과\n",
    "False\n",
    "\n",
    "</pre>"
   ]
  },
  {
   "cell_type": "code",
   "execution_count": 63,
   "metadata": {},
   "outputs": [],
   "source": [
    "import re\n"
   ]
  },
  {
   "cell_type": "code",
   "execution_count": 69,
   "metadata": {},
   "outputs": [
    {
     "name": "stdout",
     "output_type": "stream",
     "text": [
      "False\n"
     ]
    }
   ],
   "source": [
    "url = input()\n",
    "if re.match(\"^https?://[a-zA-Z0-9-]+\\.[a-zA-Z0-9-.]+/[a-zA-Z0-9-_/.?=]*\" ,url) == url : \n",
    "    print(True)\n",
    "else:\n",
    "    print(False)\n"
   ]
  },
  {
   "cell_type": "code",
   "execution_count": 82,
   "metadata": {},
   "outputs": [
    {
     "name": "stdout",
     "output_type": "stream",
     "text": [
      "False\n"
     ]
    }
   ],
   "source": [
    "url = input()\n",
    "if re.match(\"^https?://[a-zA-Z0-9-]+\\.[a-zA-Z0-9-.]+/[a-zA-Z0-9-_/.?=]*\" ,url) != None:\n",
    "    print(True)\n",
    "else:\n",
    "    print(False)\n",
    "\n"
   ]
  },
  {
   "cell_type": "markdown",
   "metadata": {},
   "source": [
    "### 44 심사문제\n",
    "<pre>\n",
    "표준 입력으로 원의 반지름(실수)이 입력됩니다. \n",
    "입력된 반지름을 이용하여 원의 넓이를 출력하는 프로그램을 만드세요\n",
    "(input에서 안내 문자열은 출력하지 않아야 합니다). \n",
    "원의 넓이는 반지름 * 반지름 * 원주율로 구합니다.\n",
    "\n",
    "judge_import.py\n",
    "________________\n",
    "________________\n",
    "________________\n",
    "\n",
    "\n",
    "입력\n",
    "10.0\n",
    "\n",
    "결과\n",
    "314.1592653589793\n",
    "\n",
    "입력\n",
    "2.5\n",
    "\n",
    "결과\n",
    "19.634954084936208\n",
    "</pre>"
   ]
  },
  {
   "cell_type": "code",
   "execution_count": 84,
   "metadata": {},
   "outputs": [
    {
     "name": "stdout",
     "output_type": "stream",
     "text": [
      "19.634954084936208\n"
     ]
    }
   ],
   "source": [
    "import math\n",
    "Radius = float(input())\n",
    "print(Radius*Radius*math.pi)"
   ]
  },
  {
   "cell_type": "markdown",
   "metadata": {},
   "source": [
    "### 45 심사문제\n",
    "<pre>\n",
    "표준 입력으로 정수가 입력됩니다. \n",
    "주어진 calcpkg 패키지를 활용하여 \n",
    "입력된 정수의 제곱근과 입력된 정수를 반지름으로 하는 원의 넓이가 출력되게 만드세요. \n",
    "제곱근은 calcpkg 패키지에서 \n",
    "operation 모듈의 squareroot 함수를 사용하고, \n",
    "원의 넓이는 calcpkg 패키지에서 geometry 모듈의 circle_area 함수를\n",
    "사용하세요\n",
    "(calcpkg 패키지를 사용하지 않고 계산하면 결과가 맞더라도 틀린 것으로 처리됩니다. 반드시 calcpkg 패키지를 사용하세요).\n",
    "\n",
    "calcpkg/__init__.py\n",
    "# 내용이 비어 있음\n",
    "\n",
    "calcpkg/operation.py\n",
    "import math\n",
    " \n",
    "def squareroot(n):\n",
    "    return math.sqrt(n)\n",
    "calcpkg/geometry.py\n",
    "import math\n",
    " \n",
    "def circle_area(radius):\n",
    "    return radius * radius * math.pi\n",
    "judge_package.py\n",
    "________________\n",
    "________________\n",
    "________________\n",
    "________________\n",
    "________________\n",
    "\n",
    "표준 입력\n",
    "2\n",
    "\n",
    "표준 출력\n",
    "1.4142135623730951\n",
    "12.566370614359172"
   ]
  },
  {
   "cell_type": "code",
   "execution_count": 1,
   "metadata": {},
   "outputs": [
    {
     "name": "stdout",
     "output_type": "stream",
     "text": [
      "1.4142135623730951\n",
      "12.566370614359172\n"
     ]
    }
   ],
   "source": [
    "import calcpkg.operation\n",
    "import calcpkg.geometry\n",
    "\n",
    "Radius2 = int(input())\n",
    "print(calcpkg.operation.squareroot(Radius2))\n",
    "print(calcpkg.geometry.circle_area(Radius2)) "
   ]
  },
  {
   "cell_type": "code",
   "execution_count": null,
   "metadata": {},
   "outputs": [],
   "source": []
  }
 ],
 "metadata": {
  "interpreter": {
   "hash": "9528276d7147921ccf3eb8613d5de8fb77d072562e0af527ab4e2e91c3f6962f"
  },
  "kernelspec": {
   "display_name": "Python 3.9.7 ('base')",
   "language": "python",
   "name": "python3"
  },
  "language_info": {
   "codemirror_mode": {
    "name": "ipython",
    "version": 3
   },
   "file_extension": ".py",
   "mimetype": "text/x-python",
   "name": "python",
   "nbconvert_exporter": "python",
   "pygments_lexer": "ipython3",
   "version": "3.9.7"
  },
  "orig_nbformat": 4
 },
 "nbformat": 4,
 "nbformat_minor": 2
}
